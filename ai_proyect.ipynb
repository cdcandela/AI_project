{
  "nbformat": 4,
  "nbformat_minor": 0,
  "metadata": {
    "kernelspec": {
      "display_name": "Python 3",
      "language": "python",
      "name": "python3"
    },
    "language_info": {
      "codemirror_mode": {
        "name": "ipython",
        "version": 3
      },
      "file_extension": ".py",
      "mimetype": "text/x-python",
      "name": "python",
      "nbconvert_exporter": "python",
      "pygments_lexer": "ipython3",
      "version": "3.8.3"
    },
    "colab": {
      "name": "ai_proyect.ipynb",
      "provenance": [],
      "collapsed_sections": []
    },
    "accelerator": "GPU"
  },
  "cells": [
    {
      "cell_type": "code",
      "metadata": {
        "id": "MGd_d5o_67Zk",
        "colab": {
          "base_uri": "https://localhost:8080/"
        },
        "cellView": "form",
        "outputId": "ea9d982d-4b6a-407a-ea73-69f9e35f2cc3"
      },
      "source": [
        "#@title Import libraries and Google Drive\n",
        "import numpy as np\n",
        "import pandas as pd\n",
        "import matplotlib.pyplot as plt\n",
        "import seaborn as sn\n",
        "import time\n",
        "\n",
        "from google.colab import drive\n",
        "drive.mount('/content/drive')"
      ],
      "execution_count": 1,
      "outputs": [
        {
          "output_type": "stream",
          "text": [
            "Mounted at /content/drive\n"
          ],
          "name": "stdout"
        }
      ]
    },
    {
      "cell_type": "markdown",
      "metadata": {
        "id": "cdT5bzrw67aN"
      },
      "source": [
        "# Tennessee Eastman Process TEP"
      ]
    },
    {
      "cell_type": "code",
      "metadata": {
        "colab": {
          "base_uri": "https://localhost:8080/"
        },
        "id": "w1Q5vpNS9W_T",
        "cellView": "form",
        "outputId": "0f8637a0-5d99-4e89-b5b1-c9c7fb848b5d"
      },
      "source": [
        "#@title instalar **pyreadr**\n",
        "# pip install pyreadr\n",
        "!pip install pyreadr"
      ],
      "execution_count": 2,
      "outputs": [
        {
          "output_type": "stream",
          "text": [
            "Collecting pyreadr\n",
            "\u001b[?25l  Downloading https://files.pythonhosted.org/packages/11/ae/74e99f7fe3652f5976acc35543fdf17abe9b887478218c9e277b509c0a45/pyreadr-0.4.0-cp37-cp37m-manylinux2014_x86_64.whl (410kB)\n",
            "\r\u001b[K     |▉                               | 10kB 19.7MB/s eta 0:00:01\r\u001b[K     |█▋                              | 20kB 18.0MB/s eta 0:00:01\r\u001b[K     |██▍                             | 30kB 15.3MB/s eta 0:00:01\r\u001b[K     |███▏                            | 40kB 14.1MB/s eta 0:00:01\r\u001b[K     |████                            | 51kB 8.0MB/s eta 0:00:01\r\u001b[K     |████▉                           | 61kB 7.6MB/s eta 0:00:01\r\u001b[K     |█████▋                          | 71kB 8.6MB/s eta 0:00:01\r\u001b[K     |██████▍                         | 81kB 9.6MB/s eta 0:00:01\r\u001b[K     |███████▏                        | 92kB 10.2MB/s eta 0:00:01\r\u001b[K     |████████                        | 102kB 7.7MB/s eta 0:00:01\r\u001b[K     |████████▉                       | 112kB 7.7MB/s eta 0:00:01\r\u001b[K     |█████████▋                      | 122kB 7.7MB/s eta 0:00:01\r\u001b[K     |██████████▍                     | 133kB 7.7MB/s eta 0:00:01\r\u001b[K     |███████████▏                    | 143kB 7.7MB/s eta 0:00:01\r\u001b[K     |████████████                    | 153kB 7.7MB/s eta 0:00:01\r\u001b[K     |████████████▊                   | 163kB 7.7MB/s eta 0:00:01\r\u001b[K     |█████████████▋                  | 174kB 7.7MB/s eta 0:00:01\r\u001b[K     |██████████████▍                 | 184kB 7.7MB/s eta 0:00:01\r\u001b[K     |███████████████▏                | 194kB 7.7MB/s eta 0:00:01\r\u001b[K     |████████████████                | 204kB 7.7MB/s eta 0:00:01\r\u001b[K     |████████████████▊               | 215kB 7.7MB/s eta 0:00:01\r\u001b[K     |█████████████████▋              | 225kB 7.7MB/s eta 0:00:01\r\u001b[K     |██████████████████▍             | 235kB 7.7MB/s eta 0:00:01\r\u001b[K     |███████████████████▏            | 245kB 7.7MB/s eta 0:00:01\r\u001b[K     |████████████████████            | 256kB 7.7MB/s eta 0:00:01\r\u001b[K     |████████████████████▊           | 266kB 7.7MB/s eta 0:00:01\r\u001b[K     |█████████████████████▌          | 276kB 7.7MB/s eta 0:00:01\r\u001b[K     |██████████████████████▍         | 286kB 7.7MB/s eta 0:00:01\r\u001b[K     |███████████████████████▏        | 296kB 7.7MB/s eta 0:00:01\r\u001b[K     |████████████████████████        | 307kB 7.7MB/s eta 0:00:01\r\u001b[K     |████████████████████████▊       | 317kB 7.7MB/s eta 0:00:01\r\u001b[K     |█████████████████████████▌      | 327kB 7.7MB/s eta 0:00:01\r\u001b[K     |██████████████████████████▍     | 337kB 7.7MB/s eta 0:00:01\r\u001b[K     |███████████████████████████▏    | 348kB 7.7MB/s eta 0:00:01\r\u001b[K     |████████████████████████████    | 358kB 7.7MB/s eta 0:00:01\r\u001b[K     |████████████████████████████▊   | 368kB 7.7MB/s eta 0:00:01\r\u001b[K     |█████████████████████████████▌  | 378kB 7.7MB/s eta 0:00:01\r\u001b[K     |██████████████████████████████▍ | 389kB 7.7MB/s eta 0:00:01\r\u001b[K     |███████████████████████████████▏| 399kB 7.7MB/s eta 0:00:01\r\u001b[K     |████████████████████████████████| 409kB 7.7MB/s eta 0:00:01\r\u001b[K     |████████████████████████████████| 419kB 7.7MB/s \n",
            "\u001b[?25hRequirement already satisfied: pandas>0.24.0 in /usr/local/lib/python3.7/dist-packages (from pyreadr) (1.1.5)\n",
            "Requirement already satisfied: pytz>=2017.2 in /usr/local/lib/python3.7/dist-packages (from pandas>0.24.0->pyreadr) (2018.9)\n",
            "Requirement already satisfied: python-dateutil>=2.7.3 in /usr/local/lib/python3.7/dist-packages (from pandas>0.24.0->pyreadr) (2.8.1)\n",
            "Requirement already satisfied: numpy>=1.15.4 in /usr/local/lib/python3.7/dist-packages (from pandas>0.24.0->pyreadr) (1.19.5)\n",
            "Requirement already satisfied: six>=1.5 in /usr/local/lib/python3.7/dist-packages (from python-dateutil>=2.7.3->pandas>0.24.0->pyreadr) (1.15.0)\n",
            "Installing collected packages: pyreadr\n",
            "Successfully installed pyreadr-0.4.0\n"
          ],
          "name": "stdout"
        }
      ]
    },
    {
      "cell_type": "code",
      "metadata": {
        "scrolled": true,
        "colab": {
          "base_uri": "https://localhost:8080/"
        },
        "id": "SJNyhIvT67aR",
        "outputId": "b8d89341-7172-406e-c90a-81e166b5d60f"
      },
      "source": [
        "#@title Importamos dataset\n",
        "\n",
        "import pyreadr\n",
        "'''\n",
        "Dataset de training\n",
        "'''\n",
        "t = time.time()\n",
        "\n",
        "TEP_FaultFree_Training_R = pyreadr.read_r(\"/content/drive/MyDrive/TEP/TEP_FaultFree_Training.RData\")\n",
        "TEP_Faulty_Training_R = pyreadr.read_r(\"/content/drive/MyDrive/TEP/TEP_Faulty_Training.RData\")\n",
        "\n",
        "'''\n",
        "Dataset de testing\n",
        "'''\n",
        "elapsed = time.time() - t\n",
        "print(\"time: \", elapsed)\n",
        "\n",
        "FF_tr = TEP_FaultFree_Training_R['fault_free_training']\n",
        "F_tr = TEP_Faulty_Training_R['faulty_training']"
      ],
      "execution_count": 3,
      "outputs": [
        {
          "output_type": "stream",
          "text": [
            "time:  20.41486167907715\n"
          ],
          "name": "stdout"
        }
      ]
    },
    {
      "cell_type": "code",
      "metadata": {
        "colab": {
          "base_uri": "https://localhost:8080/"
        },
        "id": "Q7ElS1pZP_eL",
        "cellView": "form",
        "outputId": "8ad52bd6-8dfa-4819-8d96-4e69602b2ad8"
      },
      "source": [
        "#@title Extraemos una muestra del dataset original\r\n",
        "\r\n",
        "# reducimos el dataset\r\n",
        "red_frac = 64\r\n",
        "rows_ext = int(250000/red_frac)\r\n",
        "df_exp = pd.DataFrame()\r\n",
        "\r\n",
        "print('Original Datafram:',F_tr.shape)\r\n",
        "\r\n",
        "# extraemos valores para los 2o diferentes tipos de faltas\r\n",
        "for i in range(1,21):\r\n",
        "  data_in = F_tr[F_tr.faultNumber ==i].iloc[:rows_ext,:]\r\n",
        "  df_exp = pd.concat((df_exp,data_in))\r\n",
        "\r\n",
        "print('Faults:',df_exp.shape)\r\n",
        "\r\n",
        "''' Agregamos los valores con faltas = 0 '''\r\n",
        "df_exp = pd.concat(( df_exp , FF_tr.iloc[:rows_ext,:]))\r\n",
        "print('Faults & non-faults:',df_exp.shape)\r\n",
        "\r\n",
        "\"\"\"Concatenamos el dataset\"\"\"\r\n",
        "fault_detec = df_exp\r\n",
        "fault_detec.shape"
      ],
      "execution_count": 4,
      "outputs": [
        {
          "output_type": "stream",
          "text": [
            "Original Datafram: (5000000, 55)\n",
            "Faults: (78120, 55)\n",
            "Faults & non-faults: (82026, 55)\n"
          ],
          "name": "stdout"
        },
        {
          "output_type": "execute_result",
          "data": {
            "text/plain": [
              "(82026, 55)"
            ]
          },
          "metadata": {
            "tags": []
          },
          "execution_count": 4
        }
      ]
    },
    {
      "cell_type": "code",
      "metadata": {
        "id": "TcLFXah7C_J_",
        "colab": {
          "base_uri": "https://localhost:8080/",
          "height": 245
        },
        "cellView": "form",
        "outputId": "42970055-59cc-452c-eff3-94b3b83e741f"
      },
      "source": [
        "#@title Muestra del Dataset\r\n",
        "\r\n",
        "print(\"Concatenated dataset dimension: \", fault_detec.shape)\r\n",
        "fault_detec.head()\r\n",
        "# fault_detec[fault_detec.faultNumber ==5].shape"
      ],
      "execution_count": null,
      "outputs": [
        {
          "output_type": "stream",
          "text": [
            "Concatenated dataset dimension:  (82026, 55)\n"
          ],
          "name": "stdout"
        },
        {
          "output_type": "execute_result",
          "data": {
            "text/html": [
              "<div>\n",
              "<style scoped>\n",
              "    .dataframe tbody tr th:only-of-type {\n",
              "        vertical-align: middle;\n",
              "    }\n",
              "\n",
              "    .dataframe tbody tr th {\n",
              "        vertical-align: top;\n",
              "    }\n",
              "\n",
              "    .dataframe thead th {\n",
              "        text-align: right;\n",
              "    }\n",
              "</style>\n",
              "<table border=\"1\" class=\"dataframe\">\n",
              "  <thead>\n",
              "    <tr style=\"text-align: right;\">\n",
              "      <th></th>\n",
              "      <th>faultNumber</th>\n",
              "      <th>simulationRun</th>\n",
              "      <th>sample</th>\n",
              "      <th>xmeas_1</th>\n",
              "      <th>xmeas_2</th>\n",
              "      <th>xmeas_3</th>\n",
              "      <th>xmeas_4</th>\n",
              "      <th>xmeas_5</th>\n",
              "      <th>xmeas_6</th>\n",
              "      <th>xmeas_7</th>\n",
              "      <th>xmeas_8</th>\n",
              "      <th>xmeas_9</th>\n",
              "      <th>xmeas_10</th>\n",
              "      <th>xmeas_11</th>\n",
              "      <th>xmeas_12</th>\n",
              "      <th>xmeas_13</th>\n",
              "      <th>xmeas_14</th>\n",
              "      <th>xmeas_15</th>\n",
              "      <th>xmeas_16</th>\n",
              "      <th>xmeas_17</th>\n",
              "      <th>xmeas_18</th>\n",
              "      <th>xmeas_19</th>\n",
              "      <th>xmeas_20</th>\n",
              "      <th>xmeas_21</th>\n",
              "      <th>xmeas_22</th>\n",
              "      <th>xmeas_23</th>\n",
              "      <th>xmeas_24</th>\n",
              "      <th>xmeas_25</th>\n",
              "      <th>xmeas_26</th>\n",
              "      <th>xmeas_27</th>\n",
              "      <th>xmeas_28</th>\n",
              "      <th>xmeas_29</th>\n",
              "      <th>xmeas_30</th>\n",
              "      <th>xmeas_31</th>\n",
              "      <th>xmeas_32</th>\n",
              "      <th>xmeas_33</th>\n",
              "      <th>xmeas_34</th>\n",
              "      <th>xmeas_35</th>\n",
              "      <th>xmeas_36</th>\n",
              "      <th>xmeas_37</th>\n",
              "      <th>xmeas_38</th>\n",
              "      <th>xmeas_39</th>\n",
              "      <th>xmeas_40</th>\n",
              "      <th>xmeas_41</th>\n",
              "      <th>xmv_1</th>\n",
              "      <th>xmv_2</th>\n",
              "      <th>xmv_3</th>\n",
              "      <th>xmv_4</th>\n",
              "      <th>xmv_5</th>\n",
              "      <th>xmv_6</th>\n",
              "      <th>xmv_7</th>\n",
              "      <th>xmv_8</th>\n",
              "      <th>xmv_9</th>\n",
              "      <th>xmv_10</th>\n",
              "      <th>xmv_11</th>\n",
              "    </tr>\n",
              "  </thead>\n",
              "  <tbody>\n",
              "    <tr>\n",
              "      <th>0</th>\n",
              "      <td>1.0</td>\n",
              "      <td>1.0</td>\n",
              "      <td>1</td>\n",
              "      <td>0.25038</td>\n",
              "      <td>3674.0</td>\n",
              "      <td>4529.0</td>\n",
              "      <td>9.2320</td>\n",
              "      <td>26.889</td>\n",
              "      <td>42.402</td>\n",
              "      <td>2704.3</td>\n",
              "      <td>74.863</td>\n",
              "      <td>120.41</td>\n",
              "      <td>0.33818</td>\n",
              "      <td>80.044</td>\n",
              "      <td>51.435</td>\n",
              "      <td>2632.9</td>\n",
              "      <td>25.029</td>\n",
              "      <td>50.528</td>\n",
              "      <td>3101.1</td>\n",
              "      <td>22.819</td>\n",
              "      <td>65.732</td>\n",
              "      <td>229.61</td>\n",
              "      <td>341.22</td>\n",
              "      <td>94.640</td>\n",
              "      <td>77.047</td>\n",
              "      <td>32.188</td>\n",
              "      <td>8.8933</td>\n",
              "      <td>26.383</td>\n",
              "      <td>6.8820</td>\n",
              "      <td>18.776</td>\n",
              "      <td>1.6567</td>\n",
              "      <td>32.958</td>\n",
              "      <td>13.823</td>\n",
              "      <td>23.978</td>\n",
              "      <td>1.2565</td>\n",
              "      <td>18.579</td>\n",
              "      <td>2.2633</td>\n",
              "      <td>4.8436</td>\n",
              "      <td>2.2986</td>\n",
              "      <td>0.017866</td>\n",
              "      <td>0.8357</td>\n",
              "      <td>0.098577</td>\n",
              "      <td>53.724</td>\n",
              "      <td>43.828</td>\n",
              "      <td>62.881</td>\n",
              "      <td>53.744</td>\n",
              "      <td>24.657</td>\n",
              "      <td>62.544</td>\n",
              "      <td>22.137</td>\n",
              "      <td>39.935</td>\n",
              "      <td>42.323</td>\n",
              "      <td>47.757</td>\n",
              "      <td>47.510</td>\n",
              "      <td>41.258</td>\n",
              "      <td>18.447</td>\n",
              "    </tr>\n",
              "    <tr>\n",
              "      <th>1</th>\n",
              "      <td>1.0</td>\n",
              "      <td>1.0</td>\n",
              "      <td>2</td>\n",
              "      <td>0.25109</td>\n",
              "      <td>3659.4</td>\n",
              "      <td>4556.6</td>\n",
              "      <td>9.4264</td>\n",
              "      <td>26.721</td>\n",
              "      <td>42.576</td>\n",
              "      <td>2705.0</td>\n",
              "      <td>75.000</td>\n",
              "      <td>120.41</td>\n",
              "      <td>0.33620</td>\n",
              "      <td>80.078</td>\n",
              "      <td>50.154</td>\n",
              "      <td>2633.8</td>\n",
              "      <td>24.419</td>\n",
              "      <td>48.772</td>\n",
              "      <td>3102.0</td>\n",
              "      <td>23.333</td>\n",
              "      <td>65.716</td>\n",
              "      <td>230.54</td>\n",
              "      <td>341.30</td>\n",
              "      <td>94.595</td>\n",
              "      <td>77.434</td>\n",
              "      <td>32.188</td>\n",
              "      <td>8.8933</td>\n",
              "      <td>26.383</td>\n",
              "      <td>6.8820</td>\n",
              "      <td>18.776</td>\n",
              "      <td>1.6567</td>\n",
              "      <td>32.958</td>\n",
              "      <td>13.823</td>\n",
              "      <td>23.978</td>\n",
              "      <td>1.2565</td>\n",
              "      <td>18.579</td>\n",
              "      <td>2.2633</td>\n",
              "      <td>4.8436</td>\n",
              "      <td>2.2986</td>\n",
              "      <td>0.017866</td>\n",
              "      <td>0.8357</td>\n",
              "      <td>0.098577</td>\n",
              "      <td>53.724</td>\n",
              "      <td>43.828</td>\n",
              "      <td>63.132</td>\n",
              "      <td>53.414</td>\n",
              "      <td>24.588</td>\n",
              "      <td>59.259</td>\n",
              "      <td>22.084</td>\n",
              "      <td>40.176</td>\n",
              "      <td>38.554</td>\n",
              "      <td>43.692</td>\n",
              "      <td>47.427</td>\n",
              "      <td>41.359</td>\n",
              "      <td>17.194</td>\n",
              "    </tr>\n",
              "    <tr>\n",
              "      <th>2</th>\n",
              "      <td>1.0</td>\n",
              "      <td>1.0</td>\n",
              "      <td>3</td>\n",
              "      <td>0.25038</td>\n",
              "      <td>3660.3</td>\n",
              "      <td>4477.8</td>\n",
              "      <td>9.4426</td>\n",
              "      <td>26.875</td>\n",
              "      <td>42.070</td>\n",
              "      <td>2706.2</td>\n",
              "      <td>74.771</td>\n",
              "      <td>120.42</td>\n",
              "      <td>0.33563</td>\n",
              "      <td>80.220</td>\n",
              "      <td>50.302</td>\n",
              "      <td>2635.5</td>\n",
              "      <td>25.244</td>\n",
              "      <td>50.071</td>\n",
              "      <td>3103.5</td>\n",
              "      <td>21.924</td>\n",
              "      <td>65.732</td>\n",
              "      <td>230.08</td>\n",
              "      <td>341.38</td>\n",
              "      <td>94.605</td>\n",
              "      <td>77.466</td>\n",
              "      <td>31.767</td>\n",
              "      <td>8.7694</td>\n",
              "      <td>26.095</td>\n",
              "      <td>6.8259</td>\n",
              "      <td>18.961</td>\n",
              "      <td>1.6292</td>\n",
              "      <td>32.985</td>\n",
              "      <td>13.742</td>\n",
              "      <td>23.897</td>\n",
              "      <td>1.3001</td>\n",
              "      <td>18.765</td>\n",
              "      <td>2.2602</td>\n",
              "      <td>4.8543</td>\n",
              "      <td>2.3900</td>\n",
              "      <td>0.017866</td>\n",
              "      <td>0.8357</td>\n",
              "      <td>0.098577</td>\n",
              "      <td>53.724</td>\n",
              "      <td>43.828</td>\n",
              "      <td>63.117</td>\n",
              "      <td>54.357</td>\n",
              "      <td>24.666</td>\n",
              "      <td>61.275</td>\n",
              "      <td>22.380</td>\n",
              "      <td>40.244</td>\n",
              "      <td>38.990</td>\n",
              "      <td>46.699</td>\n",
              "      <td>47.468</td>\n",
              "      <td>41.199</td>\n",
              "      <td>20.530</td>\n",
              "    </tr>\n",
              "    <tr>\n",
              "      <th>3</th>\n",
              "      <td>1.0</td>\n",
              "      <td>1.0</td>\n",
              "      <td>4</td>\n",
              "      <td>0.24977</td>\n",
              "      <td>3661.3</td>\n",
              "      <td>4512.1</td>\n",
              "      <td>9.4776</td>\n",
              "      <td>26.758</td>\n",
              "      <td>42.063</td>\n",
              "      <td>2707.2</td>\n",
              "      <td>75.224</td>\n",
              "      <td>120.39</td>\n",
              "      <td>0.33553</td>\n",
              "      <td>80.305</td>\n",
              "      <td>49.990</td>\n",
              "      <td>2635.6</td>\n",
              "      <td>23.268</td>\n",
              "      <td>50.435</td>\n",
              "      <td>3102.8</td>\n",
              "      <td>22.948</td>\n",
              "      <td>65.781</td>\n",
              "      <td>227.91</td>\n",
              "      <td>341.71</td>\n",
              "      <td>94.473</td>\n",
              "      <td>77.443</td>\n",
              "      <td>31.767</td>\n",
              "      <td>8.7694</td>\n",
              "      <td>26.095</td>\n",
              "      <td>6.8259</td>\n",
              "      <td>18.961</td>\n",
              "      <td>1.6292</td>\n",
              "      <td>32.985</td>\n",
              "      <td>13.742</td>\n",
              "      <td>23.897</td>\n",
              "      <td>1.3001</td>\n",
              "      <td>18.765</td>\n",
              "      <td>2.2602</td>\n",
              "      <td>4.8543</td>\n",
              "      <td>2.3900</td>\n",
              "      <td>0.017866</td>\n",
              "      <td>0.8357</td>\n",
              "      <td>0.098577</td>\n",
              "      <td>53.724</td>\n",
              "      <td>43.828</td>\n",
              "      <td>63.100</td>\n",
              "      <td>53.946</td>\n",
              "      <td>24.725</td>\n",
              "      <td>59.856</td>\n",
              "      <td>22.277</td>\n",
              "      <td>40.257</td>\n",
              "      <td>38.072</td>\n",
              "      <td>47.541</td>\n",
              "      <td>47.658</td>\n",
              "      <td>41.643</td>\n",
              "      <td>18.089</td>\n",
              "    </tr>\n",
              "    <tr>\n",
              "      <th>4</th>\n",
              "      <td>1.0</td>\n",
              "      <td>1.0</td>\n",
              "      <td>5</td>\n",
              "      <td>0.29405</td>\n",
              "      <td>3679.0</td>\n",
              "      <td>4497.0</td>\n",
              "      <td>9.3381</td>\n",
              "      <td>26.889</td>\n",
              "      <td>42.650</td>\n",
              "      <td>2705.1</td>\n",
              "      <td>75.388</td>\n",
              "      <td>120.39</td>\n",
              "      <td>0.32632</td>\n",
              "      <td>80.064</td>\n",
              "      <td>51.310</td>\n",
              "      <td>2632.4</td>\n",
              "      <td>26.099</td>\n",
              "      <td>50.480</td>\n",
              "      <td>3103.5</td>\n",
              "      <td>22.808</td>\n",
              "      <td>65.788</td>\n",
              "      <td>231.37</td>\n",
              "      <td>341.11</td>\n",
              "      <td>94.678</td>\n",
              "      <td>76.947</td>\n",
              "      <td>32.322</td>\n",
              "      <td>8.5821</td>\n",
              "      <td>26.769</td>\n",
              "      <td>6.8688</td>\n",
              "      <td>18.782</td>\n",
              "      <td>1.6396</td>\n",
              "      <td>33.071</td>\n",
              "      <td>13.834</td>\n",
              "      <td>24.228</td>\n",
              "      <td>1.0938</td>\n",
              "      <td>18.666</td>\n",
              "      <td>2.2193</td>\n",
              "      <td>4.8304</td>\n",
              "      <td>2.2416</td>\n",
              "      <td>0.017866</td>\n",
              "      <td>0.8357</td>\n",
              "      <td>0.098577</td>\n",
              "      <td>53.724</td>\n",
              "      <td>43.828</td>\n",
              "      <td>63.313</td>\n",
              "      <td>53.658</td>\n",
              "      <td>28.797</td>\n",
              "      <td>60.717</td>\n",
              "      <td>21.947</td>\n",
              "      <td>39.144</td>\n",
              "      <td>41.955</td>\n",
              "      <td>47.645</td>\n",
              "      <td>47.346</td>\n",
              "      <td>41.507</td>\n",
              "      <td>18.461</td>\n",
              "    </tr>\n",
              "  </tbody>\n",
              "</table>\n",
              "</div>"
            ],
            "text/plain": [
              "   faultNumber  simulationRun  sample  xmeas_1  ...   xmv_8   xmv_9  xmv_10  xmv_11\n",
              "0          1.0            1.0       1  0.25038  ...  47.757  47.510  41.258  18.447\n",
              "1          1.0            1.0       2  0.25109  ...  43.692  47.427  41.359  17.194\n",
              "2          1.0            1.0       3  0.25038  ...  46.699  47.468  41.199  20.530\n",
              "3          1.0            1.0       4  0.24977  ...  47.541  47.658  41.643  18.089\n",
              "4          1.0            1.0       5  0.29405  ...  47.645  47.346  41.507  18.461\n",
              "\n",
              "[5 rows x 55 columns]"
            ]
          },
          "metadata": {
            "tags": []
          },
          "execution_count": 12
        }
      ]
    },
    {
      "cell_type": "code",
      "metadata": {
        "colab": {
          "base_uri": "https://localhost:8080/",
          "height": 320
        },
        "id": "0voc1vi4-ym-",
        "cellView": "form",
        "outputId": "3f3f3d46-91d8-4f58-bded-7a6e41cb466e"
      },
      "source": [
        "#@title Descripción del Dataset\r\n",
        "fault_detec.describe()"
      ],
      "execution_count": null,
      "outputs": [
        {
          "output_type": "execute_result",
          "data": {
            "text/html": [
              "<div>\n",
              "<style scoped>\n",
              "    .dataframe tbody tr th:only-of-type {\n",
              "        vertical-align: middle;\n",
              "    }\n",
              "\n",
              "    .dataframe tbody tr th {\n",
              "        vertical-align: top;\n",
              "    }\n",
              "\n",
              "    .dataframe thead th {\n",
              "        text-align: right;\n",
              "    }\n",
              "</style>\n",
              "<table border=\"1\" class=\"dataframe\">\n",
              "  <thead>\n",
              "    <tr style=\"text-align: right;\">\n",
              "      <th></th>\n",
              "      <th>faultNumber</th>\n",
              "      <th>simulationRun</th>\n",
              "      <th>sample</th>\n",
              "      <th>xmeas_1</th>\n",
              "      <th>xmeas_2</th>\n",
              "      <th>xmeas_3</th>\n",
              "      <th>xmeas_4</th>\n",
              "      <th>xmeas_5</th>\n",
              "      <th>xmeas_6</th>\n",
              "      <th>xmeas_7</th>\n",
              "      <th>xmeas_8</th>\n",
              "      <th>xmeas_9</th>\n",
              "      <th>xmeas_10</th>\n",
              "      <th>xmeas_11</th>\n",
              "      <th>xmeas_12</th>\n",
              "      <th>xmeas_13</th>\n",
              "      <th>xmeas_14</th>\n",
              "      <th>xmeas_15</th>\n",
              "      <th>xmeas_16</th>\n",
              "      <th>xmeas_17</th>\n",
              "      <th>xmeas_18</th>\n",
              "      <th>xmeas_19</th>\n",
              "      <th>xmeas_20</th>\n",
              "      <th>xmeas_21</th>\n",
              "      <th>xmeas_22</th>\n",
              "      <th>xmeas_23</th>\n",
              "      <th>xmeas_24</th>\n",
              "      <th>xmeas_25</th>\n",
              "      <th>xmeas_26</th>\n",
              "      <th>xmeas_27</th>\n",
              "      <th>xmeas_28</th>\n",
              "      <th>xmeas_29</th>\n",
              "      <th>xmeas_30</th>\n",
              "      <th>xmeas_31</th>\n",
              "      <th>xmeas_32</th>\n",
              "      <th>xmeas_33</th>\n",
              "      <th>xmeas_34</th>\n",
              "      <th>xmeas_35</th>\n",
              "      <th>xmeas_36</th>\n",
              "      <th>xmeas_37</th>\n",
              "      <th>xmeas_38</th>\n",
              "      <th>xmeas_39</th>\n",
              "      <th>xmeas_40</th>\n",
              "      <th>xmeas_41</th>\n",
              "      <th>xmv_1</th>\n",
              "      <th>xmv_2</th>\n",
              "      <th>xmv_3</th>\n",
              "      <th>xmv_4</th>\n",
              "      <th>xmv_5</th>\n",
              "      <th>xmv_6</th>\n",
              "      <th>xmv_7</th>\n",
              "      <th>xmv_8</th>\n",
              "      <th>xmv_9</th>\n",
              "      <th>xmv_10</th>\n",
              "      <th>xmv_11</th>\n",
              "    </tr>\n",
              "  </thead>\n",
              "  <tbody>\n",
              "    <tr>\n",
              "      <th>count</th>\n",
              "      <td>82026.000000</td>\n",
              "      <td>82026.000000</td>\n",
              "      <td>82026.000000</td>\n",
              "      <td>82026.000000</td>\n",
              "      <td>82026.000000</td>\n",
              "      <td>82026.000000</td>\n",
              "      <td>82026.000000</td>\n",
              "      <td>82026.000000</td>\n",
              "      <td>82026.000000</td>\n",
              "      <td>82026.000000</td>\n",
              "      <td>82026.000000</td>\n",
              "      <td>82026.000000</td>\n",
              "      <td>82026.000000</td>\n",
              "      <td>82026.000000</td>\n",
              "      <td>82026.000000</td>\n",
              "      <td>82026.000000</td>\n",
              "      <td>82026.000000</td>\n",
              "      <td>82026.000000</td>\n",
              "      <td>82026.000000</td>\n",
              "      <td>82026.000000</td>\n",
              "      <td>82026.000000</td>\n",
              "      <td>82026.000000</td>\n",
              "      <td>82026.000000</td>\n",
              "      <td>82026.000000</td>\n",
              "      <td>82026.000000</td>\n",
              "      <td>82026.000000</td>\n",
              "      <td>82026.000000</td>\n",
              "      <td>82026.000000</td>\n",
              "      <td>82026.000000</td>\n",
              "      <td>82026.000000</td>\n",
              "      <td>82026.000000</td>\n",
              "      <td>82026.000000</td>\n",
              "      <td>82026.000000</td>\n",
              "      <td>82026.000000</td>\n",
              "      <td>82026.000000</td>\n",
              "      <td>82026.000000</td>\n",
              "      <td>82026.000000</td>\n",
              "      <td>82026.000000</td>\n",
              "      <td>82026.000000</td>\n",
              "      <td>82026.000000</td>\n",
              "      <td>82026.000000</td>\n",
              "      <td>82026.000000</td>\n",
              "      <td>82026.000000</td>\n",
              "      <td>82026.000000</td>\n",
              "      <td>82026.000000</td>\n",
              "      <td>82026.000000</td>\n",
              "      <td>82026.000000</td>\n",
              "      <td>82026.000000</td>\n",
              "      <td>82026.000000</td>\n",
              "      <td>82026.000000</td>\n",
              "      <td>82026.000000</td>\n",
              "      <td>82026.000000</td>\n",
              "      <td>82026.000000</td>\n",
              "      <td>82026.000000</td>\n",
              "      <td>82026.000000</td>\n",
              "    </tr>\n",
              "    <tr>\n",
              "      <th>mean</th>\n",
              "      <td>10.000000</td>\n",
              "      <td>4.415771</td>\n",
              "      <td>245.614695</td>\n",
              "      <td>0.262323</td>\n",
              "      <td>3663.258246</td>\n",
              "      <td>4503.455708</td>\n",
              "      <td>9.361013</td>\n",
              "      <td>26.901079</td>\n",
              "      <td>42.358123</td>\n",
              "      <td>2719.648727</td>\n",
              "      <td>74.910297</td>\n",
              "      <td>120.400373</td>\n",
              "      <td>0.345571</td>\n",
              "      <td>79.818287</td>\n",
              "      <td>49.998106</td>\n",
              "      <td>2647.507154</td>\n",
              "      <td>25.114686</td>\n",
              "      <td>49.947997</td>\n",
              "      <td>3118.306535</td>\n",
              "      <td>22.947103</td>\n",
              "      <td>65.961036</td>\n",
              "      <td>243.531158</td>\n",
              "      <td>340.101338</td>\n",
              "      <td>94.462177</td>\n",
              "      <td>77.027710</td>\n",
              "      <td>31.944600</td>\n",
              "      <td>8.884870</td>\n",
              "      <td>26.745020</td>\n",
              "      <td>6.877333</td>\n",
              "      <td>18.749346</td>\n",
              "      <td>1.630281</td>\n",
              "      <td>32.588992</td>\n",
              "      <td>13.807302</td>\n",
              "      <td>24.535955</td>\n",
              "      <td>1.256432</td>\n",
              "      <td>18.520109</td>\n",
              "      <td>2.225322</td>\n",
              "      <td>4.792871</td>\n",
              "      <td>2.270449</td>\n",
              "      <td>0.018296</td>\n",
              "      <td>0.842562</td>\n",
              "      <td>0.097872</td>\n",
              "      <td>53.742863</td>\n",
              "      <td>43.766648</td>\n",
              "      <td>63.286256</td>\n",
              "      <td>54.026287</td>\n",
              "      <td>30.298518</td>\n",
              "      <td>62.959794</td>\n",
              "      <td>22.119022</td>\n",
              "      <td>40.125653</td>\n",
              "      <td>38.094417</td>\n",
              "      <td>46.413662</td>\n",
              "      <td>50.646972</td>\n",
              "      <td>42.565541</td>\n",
              "      <td>18.576343</td>\n",
              "    </tr>\n",
              "    <tr>\n",
              "      <th>std</th>\n",
              "      <td>6.055338</td>\n",
              "      <td>2.252667</td>\n",
              "      <td>142.483542</td>\n",
              "      <td>0.145107</td>\n",
              "      <td>40.463532</td>\n",
              "      <td>105.399354</td>\n",
              "      <td>0.328659</td>\n",
              "      <td>0.231104</td>\n",
              "      <td>0.301558</td>\n",
              "      <td>70.167513</td>\n",
              "      <td>1.263361</td>\n",
              "      <td>0.071271</td>\n",
              "      <td>0.084190</td>\n",
              "      <td>1.674085</td>\n",
              "      <td>1.012720</td>\n",
              "      <td>70.338948</td>\n",
              "      <td>1.064174</td>\n",
              "      <td>1.035791</td>\n",
              "      <td>74.494125</td>\n",
              "      <td>0.644904</td>\n",
              "      <td>1.840314</td>\n",
              "      <td>66.323431</td>\n",
              "      <td>10.389173</td>\n",
              "      <td>1.237489</td>\n",
              "      <td>1.435727</td>\n",
              "      <td>1.688407</td>\n",
              "      <td>0.206637</td>\n",
              "      <td>1.913522</td>\n",
              "      <td>0.128444</td>\n",
              "      <td>0.838240</td>\n",
              "      <td>0.124747</td>\n",
              "      <td>2.534008</td>\n",
              "      <td>0.271348</td>\n",
              "      <td>2.949152</td>\n",
              "      <td>0.135637</td>\n",
              "      <td>1.168387</td>\n",
              "      <td>0.170545</td>\n",
              "      <td>0.327502</td>\n",
              "      <td>0.176964</td>\n",
              "      <td>0.010275</td>\n",
              "      <td>0.085102</td>\n",
              "      <td>0.013294</td>\n",
              "      <td>0.570275</td>\n",
              "      <td>0.603515</td>\n",
              "      <td>2.307793</td>\n",
              "      <td>3.684593</td>\n",
              "      <td>19.912191</td>\n",
              "      <td>6.765222</td>\n",
              "      <td>8.033203</td>\n",
              "      <td>12.236833</td>\n",
              "      <td>2.980290</td>\n",
              "      <td>2.397108</td>\n",
              "      <td>16.603546</td>\n",
              "      <td>9.604749</td>\n",
              "      <td>4.161831</td>\n",
              "    </tr>\n",
              "    <tr>\n",
              "      <th>min</th>\n",
              "      <td>0.000000</td>\n",
              "      <td>1.000000</td>\n",
              "      <td>1.000000</td>\n",
              "      <td>-0.003999</td>\n",
              "      <td>3383.500000</td>\n",
              "      <td>3738.200000</td>\n",
              "      <td>7.442000</td>\n",
              "      <td>25.493000</td>\n",
              "      <td>40.444000</td>\n",
              "      <td>2449.300000</td>\n",
              "      <td>63.913000</td>\n",
              "      <td>119.650000</td>\n",
              "      <td>0.055312</td>\n",
              "      <td>68.297000</td>\n",
              "      <td>45.591000</td>\n",
              "      <td>2359.000000</td>\n",
              "      <td>19.844000</td>\n",
              "      <td>45.541000</td>\n",
              "      <td>2893.600000</td>\n",
              "      <td>19.725000</td>\n",
              "      <td>55.305000</td>\n",
              "      <td>-2.368600</td>\n",
              "      <td>255.130000</td>\n",
              "      <td>80.364000</td>\n",
              "      <td>63.959000</td>\n",
              "      <td>23.663000</td>\n",
              "      <td>7.443800</td>\n",
              "      <td>18.629000</td>\n",
              "      <td>6.101100</td>\n",
              "      <td>12.637000</td>\n",
              "      <td>0.939820</td>\n",
              "      <td>20.229000</td>\n",
              "      <td>12.262000</td>\n",
              "      <td>12.324000</td>\n",
              "      <td>0.415950</td>\n",
              "      <td>10.478000</td>\n",
              "      <td>1.297500</td>\n",
              "      <td>3.224700</td>\n",
              "      <td>1.425600</td>\n",
              "      <td>-0.019730</td>\n",
              "      <td>0.398470</td>\n",
              "      <td>0.027588</td>\n",
              "      <td>51.209000</td>\n",
              "      <td>41.022000</td>\n",
              "      <td>58.770000</td>\n",
              "      <td>35.891000</td>\n",
              "      <td>-0.056625</td>\n",
              "      <td>47.226000</td>\n",
              "      <td>-0.040454</td>\n",
              "      <td>0.000000</td>\n",
              "      <td>25.125000</td>\n",
              "      <td>36.215000</td>\n",
              "      <td>-0.268380</td>\n",
              "      <td>-0.210000</td>\n",
              "      <td>-0.002106</td>\n",
              "    </tr>\n",
              "    <tr>\n",
              "      <th>25%</th>\n",
              "      <td>5.000000</td>\n",
              "      <td>2.000000</td>\n",
              "      <td>123.000000</td>\n",
              "      <td>0.219642</td>\n",
              "      <td>3637.100000</td>\n",
              "      <td>4469.000000</td>\n",
              "      <td>9.264500</td>\n",
              "      <td>26.761000</td>\n",
              "      <td>42.180000</td>\n",
              "      <td>2697.700000</td>\n",
              "      <td>74.446000</td>\n",
              "      <td>120.390000</td>\n",
              "      <td>0.323180</td>\n",
              "      <td>79.804000</td>\n",
              "      <td>49.307000</td>\n",
              "      <td>2625.300000</td>\n",
              "      <td>24.389000</td>\n",
              "      <td>49.263000</td>\n",
              "      <td>3096.400000</td>\n",
              "      <td>22.526000</td>\n",
              "      <td>65.395000</td>\n",
              "      <td>223.150000</td>\n",
              "      <td>339.160000</td>\n",
              "      <td>94.439000</td>\n",
              "      <td>76.981000</td>\n",
              "      <td>31.893000</td>\n",
              "      <td>8.797000</td>\n",
              "      <td>26.129000</td>\n",
              "      <td>6.801400</td>\n",
              "      <td>18.513000</td>\n",
              "      <td>1.629500</td>\n",
              "      <td>32.588000</td>\n",
              "      <td>13.709000</td>\n",
              "      <td>23.669000</td>\n",
              "      <td>1.182300</td>\n",
              "      <td>18.251000</td>\n",
              "      <td>2.233000</td>\n",
              "      <td>4.772600</td>\n",
              "      <td>2.245700</td>\n",
              "      <td>0.010866</td>\n",
              "      <td>0.817980</td>\n",
              "      <td>0.090246</td>\n",
              "      <td>53.371000</td>\n",
              "      <td>43.401000</td>\n",
              "      <td>62.619000</td>\n",
              "      <td>53.494000</td>\n",
              "      <td>22.389000</td>\n",
              "      <td>60.296000</td>\n",
              "      <td>21.414000</td>\n",
              "      <td>38.347000</td>\n",
              "      <td>36.061250</td>\n",
              "      <td>44.829000</td>\n",
              "      <td>45.574000</td>\n",
              "      <td>40.618000</td>\n",
              "      <td>17.112000</td>\n",
              "    </tr>\n",
              "    <tr>\n",
              "      <th>50%</th>\n",
              "      <td>10.000000</td>\n",
              "      <td>4.000000</td>\n",
              "      <td>245.000000</td>\n",
              "      <td>0.251360</td>\n",
              "      <td>3662.100000</td>\n",
              "      <td>4507.800000</td>\n",
              "      <td>9.354200</td>\n",
              "      <td>26.899000</td>\n",
              "      <td>42.346000</td>\n",
              "      <td>2705.800000</td>\n",
              "      <td>74.961000</td>\n",
              "      <td>120.400000</td>\n",
              "      <td>0.336370</td>\n",
              "      <td>80.084000</td>\n",
              "      <td>50.025000</td>\n",
              "      <td>2634.200000</td>\n",
              "      <td>25.128000</td>\n",
              "      <td>49.906000</td>\n",
              "      <td>3102.900000</td>\n",
              "      <td>22.954000</td>\n",
              "      <td>65.821000</td>\n",
              "      <td>233.080000</td>\n",
              "      <td>341.270000</td>\n",
              "      <td>94.597000</td>\n",
              "      <td>77.266000</td>\n",
              "      <td>32.181000</td>\n",
              "      <td>8.887100</td>\n",
              "      <td>26.422000</td>\n",
              "      <td>6.882000</td>\n",
              "      <td>18.780000</td>\n",
              "      <td>1.654500</td>\n",
              "      <td>32.934000</td>\n",
              "      <td>13.816000</td>\n",
              "      <td>24.026000</td>\n",
              "      <td>1.258900</td>\n",
              "      <td>18.568000</td>\n",
              "      <td>2.261800</td>\n",
              "      <td>4.843100</td>\n",
              "      <td>2.297500</td>\n",
              "      <td>0.018463</td>\n",
              "      <td>0.836480</td>\n",
              "      <td>0.098577</td>\n",
              "      <td>53.734000</td>\n",
              "      <td>43.785000</td>\n",
              "      <td>63.069000</td>\n",
              "      <td>53.970000</td>\n",
              "      <td>25.186000</td>\n",
              "      <td>61.447000</td>\n",
              "      <td>22.143000</td>\n",
              "      <td>39.995000</td>\n",
              "      <td>38.173000</td>\n",
              "      <td>46.317000</td>\n",
              "      <td>48.126000</td>\n",
              "      <td>41.217000</td>\n",
              "      <td>18.250000</td>\n",
              "    </tr>\n",
              "    <tr>\n",
              "      <th>75%</th>\n",
              "      <td>15.000000</td>\n",
              "      <td>6.000000</td>\n",
              "      <td>367.000000</td>\n",
              "      <td>0.282260</td>\n",
              "      <td>3689.300000</td>\n",
              "      <td>4545.800000</td>\n",
              "      <td>9.451300</td>\n",
              "      <td>27.043000</td>\n",
              "      <td>42.521000</td>\n",
              "      <td>2714.700000</td>\n",
              "      <td>75.452000</td>\n",
              "      <td>120.420000</td>\n",
              "      <td>0.348400</td>\n",
              "      <td>80.352000</td>\n",
              "      <td>50.680000</td>\n",
              "      <td>2643.600000</td>\n",
              "      <td>25.814000</td>\n",
              "      <td>50.643000</td>\n",
              "      <td>3110.500000</td>\n",
              "      <td>23.381000</td>\n",
              "      <td>66.455000</td>\n",
              "      <td>247.900000</td>\n",
              "      <td>342.940000</td>\n",
              "      <td>94.750000</td>\n",
              "      <td>77.534000</td>\n",
              "      <td>32.436000</td>\n",
              "      <td>8.975400</td>\n",
              "      <td>26.733000</td>\n",
              "      <td>6.959100</td>\n",
              "      <td>19.055000</td>\n",
              "      <td>1.677300</td>\n",
              "      <td>33.249000</td>\n",
              "      <td>13.912000</td>\n",
              "      <td>24.440000</td>\n",
              "      <td>1.337300</td>\n",
              "      <td>18.882000</td>\n",
              "      <td>2.287300</td>\n",
              "      <td>4.905900</td>\n",
              "      <td>2.345400</td>\n",
              "      <td>0.025525</td>\n",
              "      <td>0.857450</td>\n",
              "      <td>0.106370</td>\n",
              "      <td>54.104000</td>\n",
              "      <td>44.179000</td>\n",
              "      <td>63.535000</td>\n",
              "      <td>54.431000</td>\n",
              "      <td>28.705000</td>\n",
              "      <td>62.726750</td>\n",
              "      <td>22.726000</td>\n",
              "      <td>41.478000</td>\n",
              "      <td>40.100000</td>\n",
              "      <td>48.022750</td>\n",
              "      <td>51.886750</td>\n",
              "      <td>41.939000</td>\n",
              "      <td>19.447000</td>\n",
              "    </tr>\n",
              "    <tr>\n",
              "      <th>max</th>\n",
              "      <td>20.000000</td>\n",
              "      <td>8.000000</td>\n",
              "      <td>500.000000</td>\n",
              "      <td>1.012100</td>\n",
              "      <td>3854.500000</td>\n",
              "      <td>5111.800000</td>\n",
              "      <td>11.777000</td>\n",
              "      <td>28.212000</td>\n",
              "      <td>44.209000</td>\n",
              "      <td>3000.200000</td>\n",
              "      <td>85.122000</td>\n",
              "      <td>120.920000</td>\n",
              "      <td>0.803380</td>\n",
              "      <td>87.051000</td>\n",
              "      <td>54.204000</td>\n",
              "      <td>2945.400000</td>\n",
              "      <td>31.163000</td>\n",
              "      <td>54.498000</td>\n",
              "      <td>3448.700000</td>\n",
              "      <td>26.654000</td>\n",
              "      <td>74.359000</td>\n",
              "      <td>463.460000</td>\n",
              "      <td>392.400000</td>\n",
              "      <td>98.605000</td>\n",
              "      <td>82.555000</td>\n",
              "      <td>39.481000</td>\n",
              "      <td>9.992500</td>\n",
              "      <td>36.255000</td>\n",
              "      <td>7.549100</td>\n",
              "      <td>25.294000</td>\n",
              "      <td>2.140300</td>\n",
              "      <td>43.956000</td>\n",
              "      <td>15.350000</td>\n",
              "      <td>38.755000</td>\n",
              "      <td>2.181600</td>\n",
              "      <td>27.568000</td>\n",
              "      <td>2.966100</td>\n",
              "      <td>6.300600</td>\n",
              "      <td>2.922500</td>\n",
              "      <td>0.057655</td>\n",
              "      <td>1.432200</td>\n",
              "      <td>0.160180</td>\n",
              "      <td>56.024000</td>\n",
              "      <td>46.230000</td>\n",
              "      <td>100.000000</td>\n",
              "      <td>100.000000</td>\n",
              "      <td>100.100000</td>\n",
              "      <td>100.010000</td>\n",
              "      <td>100.050000</td>\n",
              "      <td>95.729000</td>\n",
              "      <td>50.470000</td>\n",
              "      <td>56.943000</td>\n",
              "      <td>100.380000</td>\n",
              "      <td>100.160000</td>\n",
              "      <td>87.332000</td>\n",
              "    </tr>\n",
              "  </tbody>\n",
              "</table>\n",
              "</div>"
            ],
            "text/plain": [
              "        faultNumber  simulationRun  ...        xmv_10        xmv_11\n",
              "count  82026.000000   82026.000000  ...  82026.000000  82026.000000\n",
              "mean      10.000000       4.415771  ...     42.565541     18.576343\n",
              "std        6.055338       2.252667  ...      9.604749      4.161831\n",
              "min        0.000000       1.000000  ...     -0.210000     -0.002106\n",
              "25%        5.000000       2.000000  ...     40.618000     17.112000\n",
              "50%       10.000000       4.000000  ...     41.217000     18.250000\n",
              "75%       15.000000       6.000000  ...     41.939000     19.447000\n",
              "max       20.000000       8.000000  ...    100.160000     87.332000\n",
              "\n",
              "[8 rows x 55 columns]"
            ]
          },
          "metadata": {
            "tags": []
          },
          "execution_count": 13
        }
      ]
    },
    {
      "cell_type": "markdown",
      "metadata": {
        "id": "aODFv8c4GBQ3"
      },
      "source": [
        "# Classification models testing:\r\n"
      ]
    },
    {
      "cell_type": "markdown",
      "metadata": {
        "id": "lAcQVW8FHVCz"
      },
      "source": [
        "## Data split"
      ]
    },
    {
      "cell_type": "code",
      "metadata": {
        "id": "CEoi0OmXG303",
        "colab": {
          "base_uri": "https://localhost:8080/"
        },
        "outputId": "60a641f6-4401-45ca-84b0-6d79f90c9b1f"
      },
      "source": [
        "from sklearn.model_selection import train_test_split\r\n",
        "from sklearn.metrics import confusion_matrix, accuracy_score\r\n",
        "\r\n",
        "# definimos nuestra X,y\r\n",
        "X = fault_detec.values[:,3:]\r\n",
        "y = fault_detec.values[:,np.r_[0]]\r\n",
        "print('X shape:',X.shape)\r\n",
        "print('y shape:',y.shape)"
      ],
      "execution_count": 5,
      "outputs": [
        {
          "output_type": "stream",
          "text": [
            "X shape: (82026, 52)\n",
            "y shape: (82026, 1)\n"
          ],
          "name": "stdout"
        }
      ]
    },
    {
      "cell_type": "markdown",
      "metadata": {
        "id": "V8YS0Vb_ll7N"
      },
      "source": [
        "# DATA TOTALLY RAW"
      ]
    },
    {
      "cell_type": "code",
      "metadata": {
        "id": "Za7RmsiPg0jo",
        "cellView": "form"
      },
      "source": [
        "#@title tpr and tnr definitions\r\n",
        "def tpr(est,X,y):\r\n",
        "    p = est.predict(X)\r\n",
        "    return np.mean (p[y==1] == y[y==1])\r\n",
        "\r\n",
        "def tnr(est,X,y):\r\n",
        "    p = est.predict(X)\r\n",
        "    return np.mean(p[y==0] == y[y==0])"
      ],
      "execution_count": null,
      "outputs": []
    },
    {
      "cell_type": "code",
      "metadata": {
        "id": "otghIJPsiULy",
        "cellView": "form"
      },
      "source": [
        "#@title **code: learning curve**\r\n",
        "def show_curve(est,X,y):\r\n",
        "    means, stds = [], []\r\n",
        "    nfolds_range = range(2,10)\r\n",
        "    for nfolds in nfolds_range:\r\n",
        "        #print (nfolds,)\r\n",
        "        s = cross_val_score(est, X, y, cv=KFold(nfolds, shuffle=True), scoring=make_scorer(mean_squared_error))\r\n",
        "        means.append(np.mean(s))\r\n",
        "        stds.append(np.std(s))\r\n",
        "\r\n",
        "    means = np.r_[means]\r\n",
        "    stds  = np.r_[stds]\r\n",
        "\r\n",
        "    plt.plot(nfolds_range, means, label=\"mean\", color=\"black\")\r\n",
        "    plt.fill_between(nfolds_range, means-stds, means+stds, color=\"blue\", alpha=.5, label=\"std\")\r\n",
        "    plt.xlabel(\"n folds\")\r\n",
        "    plt.ylabel(\"performance\")\r\n",
        "    plt.legend()\r\n",
        "    return means, stds"
      ],
      "execution_count": null,
      "outputs": []
    },
    {
      "cell_type": "code",
      "metadata": {
        "id": "2-1t97jSJWoz",
        "colab": {
          "base_uri": "https://localhost:8080/"
        },
        "cellView": "form",
        "outputId": "a3da09a4-3e2d-4861-a665-0ad3276132c5"
      },
      "source": [
        "#@title Split dataset (30/70)\r\n",
        "\r\n",
        "# t = time.time()\r\n",
        "from sklearn.model_selection import train_test_split\r\n",
        "X_train, X_test, y_train, y_test = train_test_split(X, y, test_size=0.3, shuffle=True)\r\n",
        "# elapsed = time.time() - t\r\n",
        "\r\n",
        "print('After splitting the data dataset')\r\n",
        "print('X shape:',X_train.shape, X_test.shape)\r\n",
        "print('y shape:',y_train.shape, y_test.shape)"
      ],
      "execution_count": 9,
      "outputs": [
        {
          "output_type": "stream",
          "text": [
            "After splitting the data dataset\n",
            "X shape: (57418, 52) (24608, 52)\n",
            "y shape: (57418, 1) (24608, 1)\n"
          ],
          "name": "stdout"
        }
      ]
    },
    {
      "cell_type": "markdown",
      "metadata": {
        "id": "ctnnXF_lGRxy"
      },
      "source": [
        "## Naives bayes"
      ]
    },
    {
      "cell_type": "code",
      "metadata": {
        "colab": {
          "base_uri": "https://localhost:8080/",
          "height": 816
        },
        "id": "818xzGn9GocW",
        "cellView": "form",
        "outputId": "8847aa8e-b5b0-481a-88aa-0820e29e82f1"
      },
      "source": [
        "#@title Single model\n",
        "#@markdown Planteamos un solo modelo\n",
        "from sklearn.naive_bayes import GaussianNB\n",
        "from sklearn.metrics import *\n",
        "t = time.time()\n",
        "\n",
        "GNB = GaussianNB()\n",
        "GNB.fit(X_train, y_train.ravel())\n",
        "y_pred_GNB = GNB.predict(X_test)\n",
        "\n",
        "cm = confusion_matrix(y_test, y_pred_GNB)\n",
        "# print(cm)\n",
        "sn.heatmap(cm)\n",
        "print('Accuracy:',accuracy_score(y_test, y_pred_GNB))\n",
        "\n",
        "elapsed = time.time() - t\n",
        "print('Time:',elapsed)\n",
        "\n",
        "print(classification_report(y_test,y_pred_GNB))"
      ],
      "execution_count": null,
      "outputs": [
        {
          "output_type": "stream",
          "text": [
            "Accuracy: 0.5411248374512354\n",
            "Time: 0.34697866439819336\n",
            "              precision    recall  f1-score   support\n",
            "\n",
            "         0.0       0.12      0.23      0.16      1182\n",
            "         1.0       0.92      0.87      0.89      1211\n",
            "         2.0       1.00      0.90      0.95      1183\n",
            "         3.0       0.14      0.24      0.18      1223\n",
            "         4.0       0.88      0.94      0.91      1137\n",
            "         5.0       0.31      0.26      0.29      1155\n",
            "         6.0       1.00      0.87      0.93      1181\n",
            "         7.0       0.92      0.83      0.87      1172\n",
            "         8.0       0.74      0.57      0.65      1141\n",
            "         9.0       0.11      0.04      0.06      1197\n",
            "        10.0       0.34      0.32      0.33      1118\n",
            "        11.0       0.72      0.64      0.68      1204\n",
            "        12.0       0.55      0.62      0.58      1126\n",
            "        13.0       0.71      0.66      0.69      1173\n",
            "        14.0       0.78      0.81      0.80      1156\n",
            "        15.0       0.13      0.16      0.14      1129\n",
            "        16.0       0.21      0.24      0.22      1155\n",
            "        17.0       0.77      0.58      0.66      1210\n",
            "        18.0       0.71      0.51      0.59      1245\n",
            "        19.0       0.54      0.55      0.54      1188\n",
            "        20.0       0.56      0.51      0.53      1122\n",
            "\n",
            "    accuracy                           0.54     24608\n",
            "   macro avg       0.58      0.54      0.55     24608\n",
            "weighted avg       0.58      0.54      0.56     24608\n",
            "\n"
          ],
          "name": "stdout"
        },
        {
          "output_type": "display_data",
          "data": {
            "image/png": "[encoded data removed]",
            "text/plain": [
              "<Figure size 432x288 with 2 Axes>"
            ]
          },
          "metadata": {
            "tags": [],
            "needs_background": "light"
          }
        }
      ]
    },
    {
      "cell_type": "code",
      "metadata": {
        "colab": {
          "base_uri": "https://localhost:8080/",
          "height": 334
        },
        "id": "ReoxDxg2V_PC",
        "cellView": "form",
        "outputId": "f9d8ff95-0f07-451c-f10d-cdef7389b3f1"
      },
      "source": [
        "#@title Cross Validation 1\r\n",
        "#@markdown Variamos los valores para KFold de 2 a 10, obervamos la curva de aprendizaje\r\n",
        "\r\n",
        "t = time.time()\r\n",
        "\r\n",
        "from sklearn.model_selection import cross_val_score\r\n",
        "from sklearn.model_selection import KFold\r\n",
        "from sklearn.metrics import make_scorer\r\n",
        "from sklearn.metrics import *\r\n",
        "\r\n",
        "media, std = show_curve(GNB,X,y.ravel())\r\n",
        "\r\n",
        "elapsed = time.time() - t\r\n",
        "print('Time:',elapsed)\r\n",
        "print('media mean:', np.mean(media))\r\n",
        "print('std mean:',np.mean(std))"
      ],
      "execution_count": null,
      "outputs": [
        {
          "output_type": "stream",
          "text": [
            "Time: 6.3334105014801025\n",
            "media mean: 38.17778033193682\n",
            "std mean: 1.438797831926884\n"
          ],
          "name": "stdout"
        },
        {
          "output_type": "display_data",
          "data": {
            "image/png": "[encoded data removed]",
            "text/plain": [
              "<Figure size 432x288 with 1 Axes>"
            ]
          },
          "metadata": {
            "tags": [],
            "needs_background": "light"
          }
        }
      ]
    },
    {
      "cell_type": "markdown",
      "metadata": {
        "id": "KE5MR_hOW6YV"
      },
      "source": [
        "## Decision Tree"
      ]
    },
    {
      "cell_type": "code",
      "metadata": {
        "colab": {
          "base_uri": "https://localhost:8080/",
          "height": 816
        },
        "id": "yYZQ_Z1iXUKs",
        "cellView": "form",
        "outputId": "9263513f-62bb-4382-c40f-a796bf68f88a"
      },
      "source": [
        "#@title Single model\r\n",
        "#@markdown Planteamos un solo modelo como punto de partida\r\n",
        "\r\n",
        "from sklearn.tree import DecisionTreeClassifier\r\n",
        "from sklearn.metrics import *\r\n",
        "\r\n",
        "t = time.time()\r\n",
        "# splitter='random'\r\n",
        "# splitter='best'\r\n",
        "# criterion='entropy'\r\n",
        "# criterion='gini'\r\n",
        "DT = DecisionTreeClassifier(criterion='entropy', max_depth=10, splitter='best')\r\n",
        "DT.fit(X_train, y_train)\r\n",
        "y_pred_DT = DT.predict(X_test)\r\n",
        "cm = confusion_matrix(y_test, y_pred_DT)\r\n",
        "# print(cm)\r\n",
        "sn.heatmap(cm)\r\n",
        "print('Accuracy',accuracy_score(y_test, y_pred_DT))\r\n",
        "\r\n",
        "elapsed = time.time() - t\r\n",
        "print('Time: ',elapsed)\r\n",
        "\r\n",
        "print(classification_report(y_test,y_pred_DT, zero_division=0))"
      ],
      "execution_count": 10,
      "outputs": [
        {
          "output_type": "stream",
          "text": [
            "Accuracy 0.5213751625487646\n",
            "Time:  6.394150257110596\n",
            "              precision    recall  f1-score   support\n",
            "\n",
            "         0.0       0.00      0.00      0.00      1167\n",
            "         1.0       0.95      0.92      0.94      1182\n",
            "         2.0       1.00      0.93      0.96      1202\n",
            "         3.0       0.00      0.00      0.00      1203\n",
            "         4.0       0.94      0.93      0.93      1188\n",
            "         5.0       0.97      0.48      0.64      1160\n",
            "         6.0       1.00      0.94      0.97      1133\n",
            "         7.0       1.00      0.95      0.97      1203\n",
            "         8.0       0.67      0.56      0.61      1191\n",
            "         9.0       0.10      0.88      0.18      1109\n",
            "        10.0       0.00      0.00      0.00      1225\n",
            "        11.0       0.92      0.51      0.66      1112\n",
            "        12.0       0.54      0.61      0.57      1187\n",
            "        13.0       0.74      0.47      0.58      1212\n",
            "        14.0       0.97      0.82      0.89      1172\n",
            "        15.0       0.00      0.00      0.00      1160\n",
            "        16.0       0.08      0.09      0.09      1153\n",
            "        17.0       0.86      0.75      0.80      1156\n",
            "        18.0       0.93      0.69      0.79      1181\n",
            "        19.0       0.00      0.00      0.00      1133\n",
            "        20.0       0.90      0.43      0.58      1179\n",
            "\n",
            "    accuracy                           0.52     24608\n",
            "   macro avg       0.60      0.52      0.53     24608\n",
            "weighted avg       0.60      0.52      0.53     24608\n",
            "\n"
          ],
          "name": "stdout"
        },
        {
          "output_type": "display_data",
          "data": {
            "image/png": "[encoded data removed]",
            "text/plain": [
              "<Figure size 432x288 with 2 Axes>"
            ]
          },
          "metadata": {
            "tags": [],
            "needs_background": "light"
          }
        }
      ]
    },
    {
      "cell_type": "code",
      "metadata": {
        "colab": {
          "base_uri": "https://localhost:8080/",
          "height": 279
        },
        "id": "erZ2A59GniDE",
        "cellView": "form",
        "outputId": "03686bbc-eb31-463c-c18e-cf736e3314f6"
      },
      "source": [
        "#@title Cross Validation\r\n",
        "#@markdown Variamos los valores para KFold de 2 a 10, obervamos la curva de aprendizaje\r\n",
        "#@markdown (toma su tiempo es ejecutar)\r\n",
        "\r\n",
        "media, std = show_curve(DT,X,y.ravel())"
      ],
      "execution_count": null,
      "outputs": [
        {
          "output_type": "display_data",
          "data": {
            "image/png": "[encoded data removed]",
            "text/plain": [
              "<Figure size 432x288 with 1 Axes>"
            ]
          },
          "metadata": {
            "tags": [],
            "needs_background": "light"
          }
        }
      ]
    },
    {
      "cell_type": "code",
      "metadata": {
        "id": "PbEscazsopMk",
        "colab": {
          "base_uri": "https://localhost:8080/",
          "height": 316
        },
        "cellView": "form",
        "outputId": "98ac0b7c-1d51-4743-c960-ac5655c242b4"
      },
      "source": [
        "#@title Max depth variation\r\n",
        "#@markdown Variamos los valores para Max depth de 2 a 10, obervamos la curva de aprendizaje\r\n",
        "#@markdown (el resto de parametros se mantienen en Default)\r\n",
        "\r\n",
        "from sklearn.metrics import accuracy_score\r\n",
        "\r\n",
        "# accu, tprs, tnrs = [],[],[]\r\n",
        "accu = []\r\n",
        "\r\n",
        "fondo = 30\r\n",
        "\r\n",
        "depth = range(2,fondo+1,2)\r\n",
        "\r\n",
        "for i in depth:\r\n",
        "  est = DecisionTreeClassifier(max_depth=i)\r\n",
        "  est.fit(X_train, y_train)\r\n",
        "  y_pred = est.predict(X_test)\r\n",
        "  accu.append(accuracy_score(y_test,y_pred))\r\n",
        "\r\n",
        "plt.plot(depth, accu)\r\n",
        "plt.grid()\r\n",
        "plt.xlabel(\"max depth\")\r\n",
        "plt.ylabel(\"accuracy\")\r\n",
        "plt.legend()\r\n"
      ],
      "execution_count": 11,
      "outputs": [
        {
          "output_type": "stream",
          "text": [
            "No handles with labels found to put in legend.\n"
          ],
          "name": "stderr"
        },
        {
          "output_type": "execute_result",
          "data": {
            "text/plain": [
              "<matplotlib.legend.Legend at 0x7fbcd54737d0>"
            ]
          },
          "metadata": {
            "tags": []
          },
          "execution_count": 11
        },
        {
          "output_type": "display_data",
          "data": {
            "image/png": "[encoded data removed]",
            "text/plain": [
              "<Figure size 432x288 with 1 Axes>"
            ]
          },
          "metadata": {
            "tags": [],
            "needs_background": "light"
          }
        }
      ]
    },
    {
      "cell_type": "code",
      "metadata": {
        "colab": {
          "base_uri": "https://localhost:8080/",
          "height": 798
        },
        "id": "FOd7dc9VPibc",
        "outputId": "6eb3289d-623a-4501-ed6f-d61174069d8e"
      },
      "source": [
        "#@title Best Max depth testing\r\n",
        "#@markdown Probamos con un valor de Max depth de 20, con base en la gráfica anterior\r\n",
        "from sklearn.tree import DecisionTreeClassifier\r\n",
        "from sklearn.metrics import *\r\n",
        "\r\n",
        "DT = DecisionTreeClassifier(criterion='entropy', max_depth=20, splitter='best')\r\n",
        "DT.fit(X_train, y_train)\r\n",
        "y_pred_DT = DT.predict(X_test)\r\n",
        "\r\n",
        "cm = confusion_matrix(y_test, y_pred_DT)\r\n",
        "# print(cm)\r\n",
        "sn.heatmap(cm)\r\n",
        "\r\n",
        "print('Accuracy:',accuracy_score(y_test, y_pred_DT))\r\n",
        "print(classification_report(y_test,y_pred_DT))"
      ],
      "execution_count": 11,
      "outputs": [
        {
          "output_type": "stream",
          "text": [
            "Accuracy: 0.6427178153446034\n",
            "              precision    recall  f1-score   support\n",
            "\n",
            "         0.0       0.12      0.44      0.19      1137\n",
            "         1.0       0.99      0.95      0.97      1184\n",
            "         2.0       1.00      0.92      0.96      1184\n",
            "         3.0       0.12      0.09      0.10      1165\n",
            "         4.0       0.94      0.90      0.92      1166\n",
            "         5.0       0.94      0.73      0.82      1217\n",
            "         6.0       1.00      0.96      0.98      1201\n",
            "         7.0       0.99      0.94      0.97      1180\n",
            "         8.0       0.86      0.75      0.80      1163\n",
            "         9.0       0.14      0.30      0.19      1118\n",
            "        10.0       0.61      0.45      0.52      1157\n",
            "        11.0       0.86      0.69      0.76      1160\n",
            "        12.0       0.80      0.70      0.75      1156\n",
            "        13.0       0.91      0.74      0.82      1197\n",
            "        14.0       0.98      0.90      0.93      1189\n",
            "        15.0       0.07      0.00      0.00      1161\n",
            "        16.0       0.47      0.50      0.48      1170\n",
            "        17.0       0.94      0.82      0.87      1187\n",
            "        18.0       0.92      0.78      0.84      1204\n",
            "        19.0       0.60      0.45      0.51      1152\n",
            "        20.0       0.92      0.43      0.59      1160\n",
            "\n",
            "    accuracy                           0.64     24608\n",
            "   macro avg       0.72      0.64      0.67     24608\n",
            "weighted avg       0.73      0.64      0.67     24608\n",
            "\n"
          ],
          "name": "stdout"
        },
        {
          "output_type": "display_data",
          "data": {
            "image/png": "[encoded data removed]",
            "text/plain": [
              "<Figure size 432x288 with 2 Axes>"
            ]
          },
          "metadata": {
            "tags": [],
            "needs_background": "light"
          }
        }
      ]
    },
    {
      "cell_type": "markdown",
      "metadata": {
        "id": "Fhx178mNvPBR"
      },
      "source": [
        "## Feature importance"
      ]
    },
    {
      "cell_type": "code",
      "metadata": {
        "colab": {
          "base_uri": "https://localhost:8080/"
        },
        "id": "aZVyBMzO4-QG",
        "cellView": "form",
        "outputId": "352c9a4f-9189-4af9-a3be-4e351e813afa"
      },
      "source": [
        "#@title Comparación aportes de las variables\r\n",
        "\r\n",
        "print('Todas las características')\r\n",
        "print(DT.feature_importances_)\r\n",
        "print('Características totales:',DT.feature_importances_.shape)\r\n",
        "print('Características con aporte > 0.002:',DT.feature_importances_[DT.feature_importances_ > 0.002].shape)\r\n",
        "\r\n",
        "# n = 6\r\n",
        "# mejores = DT.feature_importances_\r\n",
        "# indices_mejores = np.argsort(mejores)[-n:]\r\n",
        "# indices_mejores"
      ],
      "execution_count": 12,
      "outputs": [
        {
          "output_type": "stream",
          "text": [
            "Todas las características\n",
            "[0.0362411  0.00107607 0.00139855 0.02126868 0.01850894 0.00035665\n",
            " 0.00297991 0.00143657 0.04546577 0.07471415 0.01715229 0.00037136\n",
            " 0.00442768 0.00058524 0.00031643 0.01862232 0.01719478 0.03479326\n",
            " 0.01560283 0.02434398 0.08745664 0.04749344 0.00245421 0.00149858\n",
            " 0.00265066 0.00065127 0.00159244 0.00322556 0.01648834 0.0036531\n",
            " 0.00465584 0.00103264 0.01354505 0.00577212 0.00292616 0.0051632\n",
            " 0.00053632 0.00766586 0.00082564 0.00175143 0.00133073 0.00118448\n",
            " 0.00413947 0.13018491 0.0783237  0.02906191 0.01752233 0.0004778\n",
            " 0.00069744 0.02024088 0.14325392 0.02568735]\n",
            "Características totales: (52,)\n",
            "Características con aporte > 0.002: (34,)\n"
          ],
          "name": "stdout"
        }
      ]
    },
    {
      "cell_type": "code",
      "metadata": {
        "id": "pwhcn7sgWk0J",
        "cellView": "form"
      },
      "source": [
        "#@title **CODE:** Seleccionamos indices de N mejores Features\r\n",
        "def mejores_indices(est, n):\r\n",
        "  mejores = est.feature_importances_\r\n",
        "  indices_mejores = np.argsort(mejores)[-n:]\r\n",
        "  return indices_mejores\r\n",
        "\r\n",
        "# a = mejores_indices(DT,8)\r\n",
        "# a"
      ],
      "execution_count": null,
      "outputs": []
    },
    {
      "cell_type": "markdown",
      "metadata": {
        "id": "rmz_9tKzYxOq"
      },
      "source": [
        "# DATA PROCESADA"
      ]
    },
    {
      "cell_type": "code",
      "metadata": {
        "colab": {
          "base_uri": "https://localhost:8080/"
        },
        "id": "lZJp9JlLZlmf",
        "cellView": "form",
        "outputId": "7f4e7f12-bf0c-4d49-809c-fc9a6a116fbc"
      },
      "source": [
        "#@title Split data\r\n",
        "\r\n",
        "from sklearn.model_selection import train_test_split\r\n",
        "from sklearn.metrics import confusion_matrix, accuracy_score\r\n",
        "\r\n",
        "# definimos nuestra X,y\r\n",
        "X = fault_detec.values[:,3:]\r\n",
        "y = fault_detec.values[:,np.r_[0]]\r\n",
        "print('X shape:',X.shape)\r\n",
        "print('y shape:',y.shape)\r\n",
        "\r\n",
        "# t = time.time()\r\n",
        "X_train, X_test, y_train, y_test = train_test_split(X, y, test_size=0.3, shuffle=True)\r\n",
        "# elapsed = time.time() - t\r\n",
        "\r\n",
        "print('After splitting the data dataset')\r\n",
        "print('X shape:',X_train.shape, X_test.shape)\r\n",
        "print('y shape:',y_train.shape, y_test.shape)\r\n"
      ],
      "execution_count": 13,
      "outputs": [
        {
          "output_type": "stream",
          "text": [
            "X shape: (82026, 52)\n",
            "y shape: (82026, 1)\n",
            "After splitting the data dataset\n",
            "X shape: (57418, 52) (24608, 52)\n",
            "y shape: (57418, 1) (24608, 1)\n"
          ],
          "name": "stdout"
        }
      ]
    },
    {
      "cell_type": "code",
      "metadata": {
        "id": "JyJZnpGXZH9F",
        "cellView": "form"
      },
      "source": [
        "#@title Feature Scaling\r\n",
        "\r\n",
        "from sklearn.preprocessing import StandardScaler\r\n",
        "sc = StandardScaler()\r\n",
        "X_train = sc.fit_transform(X_train)\r\n",
        "X_test = sc.transform(X_test)\r\n",
        "\r\n",
        "# print(X_train[:2,:])"
      ],
      "execution_count": null,
      "outputs": []
    },
    {
      "cell_type": "code",
      "metadata": {
        "colab": {
          "base_uri": "https://localhost:8080/"
        },
        "id": "J59VATWJa_o4",
        "outputId": "dab1af1d-a390-4e79-9097-3fb7172edf7e"
      },
      "source": [
        "#@title Decision Tree and feature importance\r\n",
        "\r\n",
        "DT = DecisionTreeClassifier(max_depth=20)\r\n",
        "DT.fit(X_train, y_train)\r\n",
        "y_pred_DT = DT.predict(X_test)\r\n",
        "mejores = DT.feature_importances_\r\n",
        "# indices_mejores = np.argsort(mejores)[-n:]\r\n",
        "print(mejores)"
      ],
      "execution_count": 14,
      "outputs": [
        {
          "output_type": "stream",
          "text": [
            "[0.15119575 0.00097553 0.00072734 0.03416487 0.02238874 0.00158584\n",
            " 0.00120863 0.00410763 0.09351354 0.08054818 0.01311115 0.00046626\n",
            " 0.00204498 0.00039066 0.00061107 0.04182339 0.01429797 0.01892821\n",
            " 0.01695367 0.0184447  0.09741516 0.04864111 0.00165269 0.00306317\n",
            " 0.0046204  0.00043262 0.00791158 0.0066821  0.02268941 0.00338226\n",
            " 0.00831949 0.00084211 0.00441474 0.00409075 0.00244288 0.00702509\n",
            " 0.00097768 0.01046034 0.00185136 0.00218814 0.0013927  0.00084989\n",
            " 0.00582462 0.0095538  0.06878616 0.0248323  0.00468678 0.00027117\n",
            " 0.00064759 0.01814394 0.08541304 0.02300681]\n"
          ],
          "name": "stdout"
        }
      ]
    },
    {
      "cell_type": "code",
      "metadata": {
        "colab": {
          "base_uri": "https://localhost:8080/"
        },
        "id": "BJOfY95scdeW",
        "outputId": "d4abe04e-bacf-4b0f-bf5d-945a7b2a2488"
      },
      "source": [
        "#@title NGB  y Decision Tree variando cantidad de features\r\n",
        "# mejores.shape\r\n",
        "from sklearn.naive_bayes import GaussianNB\r\n",
        "from sklearn.tree import DecisionTreeClassifier\r\n",
        "from sklearn.metrics import *\r\n",
        "\r\n",
        "t = time.time()\r\n",
        "\r\n",
        "# feat_nun = 52\r\n",
        "feat_nun = np.size(mejores)\r\n",
        "cant_feat = range(1,feat_nun+1)\r\n",
        "\r\n",
        "mejores = DT.feature_importances_\r\n",
        "# indices_mejores = np.argsort(mejores)[-n:]\r\n",
        "\r\n",
        "accu = []\r\n",
        "accu_DTC = []\r\n",
        "\r\n",
        "GNB = GaussianNB()\r\n",
        "DTC = DecisionTreeClassifier(criterion='entropy', max_depth=6, splitter='best')\r\n",
        "for i in cant_feat:\r\n",
        "  # print(i)\r\n",
        "  # creamos sub dataset\r\n",
        "  indices_mejores = np.argsort(mejores)[-i:]\r\n",
        "\r\n",
        "  X_train_best = X_train[:,indices_mejores]\r\n",
        "  X_test_best = X_test[:,indices_mejores]\r\n",
        "  # entrenamos modelo\r\n",
        "  GNB.fit(X_train_best, y_train.ravel())\r\n",
        "  DTC.fit(X_train_best, y_train.ravel())\r\n",
        "  # predicciones\r\n",
        "  y_pred_GNB = GNB.predict(X_test_best)\r\n",
        "  accu.append(accuracy_score(y_test, y_pred_GNB))\r\n",
        "  y_pred_DTC = DTC.predict(X_test_best)\r\n",
        "  accu_DTC.append(accuracy_score(y_test, y_pred_DTC))\r\n",
        "\r\n",
        "elapsed = time.time() - t\r\n",
        "print('Time: ',elapsed)"
      ],
      "execution_count": null,
      "outputs": [
        {
          "output_type": "stream",
          "text": [
            "Time:  105.99532532691956\n"
          ],
          "name": "stdout"
        }
      ]
    },
    {
      "cell_type": "code",
      "metadata": {
        "colab": {
          "base_uri": "https://localhost:8080/",
          "height": 297
        },
        "id": "GD4d9KcugNhL",
        "cellView": "form",
        "outputId": "948d81c3-c471-4a40-fe36-909ab63ce9c8"
      },
      "source": [
        "#@title ploteamos resultados anteriores\r\n",
        "\r\n",
        "# plt.subplot(1,2,1)\r\n",
        "plt.plot(cant_feat, accu)\r\n",
        "plt.plot(cant_feat, accu_DTC)\r\n",
        "plt.grid()\r\n",
        "plt.xlabel(\"Features\")\r\n",
        "plt.ylabel(\"accuracy\")\r\n",
        "plt.legend(['Naive Bayes','Decisiontree'])"
      ],
      "execution_count": null,
      "outputs": [
        {
          "output_type": "execute_result",
          "data": {
            "text/plain": [
              "<matplotlib.legend.Legend at 0x7fdfb82cdb90>"
            ]
          },
          "metadata": {
            "tags": []
          },
          "execution_count": 88
        },
        {
          "output_type": "display_data",
          "data": {
            "image/png": "[encoded data removed]",
            "text/plain": [
              "<Figure size 432x288 with 1 Axes>"
            ]
          },
          "metadata": {
            "tags": [],
            "needs_background": "light"
          }
        }
      ]
    },
    {
      "cell_type": "code",
      "metadata": {
        "colab": {
          "base_uri": "https://localhost:8080/"
        },
        "id": "Pi1SIuxQxb3d",
        "cellView": "form",
        "outputId": "cfa0ef17-32ef-467a-f9fa-11ffc7d23e12"
      },
      "source": [
        "#@title NGB  y Decision Tree variando valores de PCA\r\n",
        "\r\n",
        "from sklearn.naive_bayes import GaussianNB\r\n",
        "from sklearn.tree import DecisionTreeClassifier\r\n",
        "from sklearn.decomposition import PCA\r\n",
        "from sklearn.metrics import *\r\n",
        "\r\n",
        "t = time.time()\r\n",
        "\r\n",
        "# cant_feat = [1,2,4,6,8,10,12,14,16,18,20,22,24,26,28,30,32,34,36,38,40,42,44,46,48,50,52]\r\n",
        "cant_feat = [1,5,10,15,20,25,30,35,40,45,50,51]\r\n",
        "# cant_feat = [1,10,20,30,40,50]\r\n",
        "# cant_feat = [1,20]\r\n",
        "\r\n",
        "# mejores = DT.feature_importances_\r\n",
        "# indices_mejores = np.argsort(mejores)[-n:]\r\n",
        "\r\n",
        "accu = []\r\n",
        "accu_DTC = []\r\n",
        "\r\n",
        "GNB = GaussianNB()\r\n",
        "DTC = DecisionTreeClassifier(criterion='entropy', max_depth=6, splitter='best')\r\n",
        "for i in cant_feat:\r\n",
        "  # creamos y entreamos el objeto PCA\r\n",
        "  pca = PCA(n_components=i)\r\n",
        "  pca.fit(X_train)\r\n",
        "  X_train_pca = pca.transform(X_train)\r\n",
        "  X_test_pca = pca.transform(X_test)\r\n",
        "  \r\n",
        "  # entrenamos modelo\r\n",
        "  GNB.fit(X_train_pca, y_train.ravel())\r\n",
        "  DTC.fit(X_train_pca, y_train.ravel())\r\n",
        "  # predicciones\r\n",
        "  y_pred_GNB = GNB.predict(X_test_pca)\r\n",
        "  accu.append(accuracy_score(y_test, y_pred_GNB))\r\n",
        "  y_pred_DTC = DTC.predict(X_test_pca)\r\n",
        "  accu_DTC.append(accuracy_score(y_test, y_pred_DTC))\r\n",
        "\r\n",
        "elapsed = time.time() - t\r\n",
        "print('Time: ',elapsed)"
      ],
      "execution_count": null,
      "outputs": [
        {
          "output_type": "stream",
          "text": [
            "Time:  111.57876253128052\n"
          ],
          "name": "stdout"
        }
      ]
    },
    {
      "cell_type": "code",
      "metadata": {
        "colab": {
          "base_uri": "https://localhost:8080/",
          "height": 297
        },
        "id": "2b_lik9ux9X-",
        "outputId": "2b616133-0a78-49b7-a5e0-e9773c51c1bf"
      },
      "source": [
        "#@title ploteamos resultados anteriores\r\n",
        "\r\n",
        "# plt.subplot(1,2,1)\r\n",
        "plt.plot(cant_feat, accu)\r\n",
        "plt.plot(cant_feat, accu_DTC)\r\n",
        "plt.grid()\r\n",
        "plt.xlabel(\"PCA elements\")\r\n",
        "plt.ylabel(\"accuracy\")\r\n",
        "plt.legend(['Naive Bayes','Decisiontree'])"
      ],
      "execution_count": null,
      "outputs": [
        {
          "output_type": "execute_result",
          "data": {
            "text/plain": [
              "<matplotlib.legend.Legend at 0x7f3a1e4ec910>"
            ]
          },
          "metadata": {
            "tags": []
          },
          "execution_count": 52
        },
        {
          "output_type": "display_data",
          "data": {
            "image/png": "[encoded data removed]",
            "text/plain": [
              "<Figure size 432x288 with 1 Axes>"
            ]
          },
          "metadata": {
            "tags": [],
            "needs_background": "light"
          }
        }
      ]
    },
    {
      "cell_type": "code",
      "metadata": {
        "colab": {
          "base_uri": "https://localhost:8080/"
        },
        "id": "ZA27A_rr80yl",
        "cellView": "form",
        "outputId": "c40be81f-13a7-4141-ff6e-937041c7fe00"
      },
      "source": [
        "#@title Ejecutamos con la mejores características\r\n",
        "#@markdown **NOTA:** antes de ejecutar, ejecutar celda \"Decision Tree and feature importance\"\r\n",
        "# hacemos red neuronal \r\n",
        "import tensorflow as tf\r\n",
        "from tensorflow import keras\r\n",
        "from sklearn.preprocessing import StandardScaler\r\n",
        "\r\n",
        "# definimos nuestra X,y\r\n",
        "X = fault_detec.values[:,3:]\r\n",
        "y = fault_detec.values[:,np.r_[0]]\r\n",
        "print('X shape:',X.shape)\r\n",
        "print('y shape:',y.shape)\r\n",
        "\r\n",
        "X_train, X_test, y_train, y_test = train_test_split(X, y, test_size=0.3, shuffle=True)\r\n",
        "print('After splitting the data dataset')\r\n",
        "print('X shape:',X_train.shape, X_test.shape)\r\n",
        "print('y shape:',y_train.shape, y_test.shape)\r\n",
        "\r\n",
        "# feature scaling\r\n",
        "sc = StandardScaler()\r\n",
        "X_train = sc.fit_transform(X_train)\r\n",
        "X_test = sc.transform(X_test)\r\n",
        "\r\n",
        "# selection mejores features\r\n",
        "n = 20\r\n",
        "mejores = DT.feature_importances_\r\n",
        "indices_mejores = np.argsort(mejores)[-n:]\r\n",
        "indices_mejores\r\n",
        "\r\n",
        "X_train_best = X_train[:,indices_mejores]\r\n",
        "X_test_best = X_test[:,indices_mejores]\r\n",
        "\r\n",
        "\r\n",
        "# one-hot-encoding\r\n",
        "y_train_ohe = tf.keras.utils.to_categorical(y_train, num_classes=21)\r\n",
        "y_test_ohe = tf.keras.utils.to_categorical(y_test, num_classes=21)\r\n",
        "print(y_train_ohe.shape, y_test_ohe.shape)"
      ],
      "execution_count": 15,
      "outputs": [
        {
          "output_type": "stream",
          "text": [
            "X shape: (82026, 52)\n",
            "y shape: (82026, 1)\n",
            "After splitting the data dataset\n",
            "X shape: (57418, 52) (24608, 52)\n",
            "y shape: (57418, 1) (24608, 1)\n",
            "(57418, 21) (24608, 21)\n"
          ],
          "name": "stdout"
        }
      ]
    },
    {
      "cell_type": "code",
      "metadata": {
        "id": "3w6hMgN9j69v",
        "colab": {
          "base_uri": "https://localhost:8080/"
        },
        "outputId": "9343f07b-66ab-4b2e-a683-b36c2b9f34ed"
      },
      "source": [
        "#@title Definimos arquitectura de la red neuronal\r\n",
        "\r\n",
        "model = tf.keras.Sequential([\r\n",
        "          tf.keras.layers.Flatten(input_shape=X_train_best[0].shape),\r\n",
        "          tf.keras.layers.Dense(256, activation=tf.nn.relu),\r\n",
        "          tf.keras.layers.Dense(128, activation=tf.nn.relu),\r\n",
        "          tf.keras.layers.Dense(64, activation=tf.nn.relu),\r\n",
        "          tf.keras.layers.Dense(32, activation=tf.nn.relu),\r\n",
        "          tf.keras.layers.Dense(16, activation=tf.nn.relu),\r\n",
        "          tf.keras.layers.Dense(21, activation=tf.nn.softmax)\r\n",
        "])\r\n",
        "\r\n",
        "model.compile(optimizer = tf.keras.optimizers.SGD(),\r\n",
        "              loss='categorical_crossentropy',\r\n",
        "              metrics=['accuracy'])\r\n",
        "\r\n",
        "model.fit(X_train_best, y_train_ohe, epochs=75,\r\n",
        "          batch_size=250,\r\n",
        "          validation_data=(X_test_best, y_test_ohe))\r\n"
      ],
      "execution_count": 16,
      "outputs": [
        {
          "output_type": "stream",
          "text": [
            "Epoch 1/75\n",
            "230/230 [==============================] - 4s 5ms/step - loss: 3.0422 - accuracy: 0.0624 - val_loss: 2.9541 - val_accuracy: 0.1315\n",
            "Epoch 2/75\n",
            "230/230 [==============================] - 1s 3ms/step - loss: 2.9097 - accuracy: 0.1365 - val_loss: 2.7692 - val_accuracy: 0.1711\n",
            "Epoch 3/75\n",
            "230/230 [==============================] - 1s 4ms/step - loss: 2.7257 - accuracy: 0.1908 - val_loss: 2.6084 - val_accuracy: 0.2547\n",
            "Epoch 4/75\n",
            "230/230 [==============================] - 1s 4ms/step - loss: 2.5600 - accuracy: 0.2788 - val_loss: 2.4025 - val_accuracy: 0.3080\n",
            "Epoch 5/75\n",
            "230/230 [==============================] - 1s 4ms/step - loss: 2.3476 - accuracy: 0.3214 - val_loss: 2.2036 - val_accuracy: 0.3383\n",
            "Epoch 6/75\n",
            "230/230 [==============================] - 1s 4ms/step - loss: 2.1529 - accuracy: 0.3487 - val_loss: 2.0221 - val_accuracy: 0.3649\n",
            "Epoch 7/75\n",
            "230/230 [==============================] - 1s 4ms/step - loss: 1.9922 - accuracy: 0.3767 - val_loss: 1.8904 - val_accuracy: 0.4089\n",
            "Epoch 8/75\n",
            "230/230 [==============================] - 1s 3ms/step - loss: 1.8539 - accuracy: 0.4233 - val_loss: 1.8032 - val_accuracy: 0.4249\n",
            "Epoch 9/75\n",
            "230/230 [==============================] - 1s 4ms/step - loss: 1.7815 - accuracy: 0.4379 - val_loss: 1.7363 - val_accuracy: 0.4541\n",
            "Epoch 10/75\n",
            "230/230 [==============================] - 1s 3ms/step - loss: 1.7166 - accuracy: 0.4615 - val_loss: 1.6765 - val_accuracy: 0.4794\n",
            "Epoch 11/75\n",
            "230/230 [==============================] - 1s 4ms/step - loss: 1.6475 - accuracy: 0.4889 - val_loss: 1.6132 - val_accuracy: 0.5037\n",
            "Epoch 12/75\n",
            "230/230 [==============================] - 1s 4ms/step - loss: 1.5849 - accuracy: 0.5166 - val_loss: 1.5415 - val_accuracy: 0.5302\n",
            "Epoch 13/75\n",
            "230/230 [==============================] - 1s 4ms/step - loss: 1.5130 - accuracy: 0.5411 - val_loss: 1.4694 - val_accuracy: 0.5530\n",
            "Epoch 14/75\n",
            "230/230 [==============================] - 1s 4ms/step - loss: 1.4389 - accuracy: 0.5650 - val_loss: 1.4045 - val_accuracy: 0.5739\n",
            "Epoch 15/75\n",
            "230/230 [==============================] - 1s 4ms/step - loss: 1.3825 - accuracy: 0.5791 - val_loss: 1.3540 - val_accuracy: 0.5817\n",
            "Epoch 16/75\n",
            "230/230 [==============================] - 1s 4ms/step - loss: 1.3382 - accuracy: 0.5892 - val_loss: 1.3218 - val_accuracy: 0.5922\n",
            "Epoch 17/75\n",
            "230/230 [==============================] - 1s 3ms/step - loss: 1.2941 - accuracy: 0.6012 - val_loss: 1.2903 - val_accuracy: 0.5983\n",
            "Epoch 18/75\n",
            "230/230 [==============================] - 1s 3ms/step - loss: 1.2761 - accuracy: 0.6049 - val_loss: 1.2665 - val_accuracy: 0.6072\n",
            "Epoch 19/75\n",
            "230/230 [==============================] - 1s 4ms/step - loss: 1.2401 - accuracy: 0.6147 - val_loss: 1.2475 - val_accuracy: 0.6113\n",
            "Epoch 20/75\n",
            "230/230 [==============================] - 1s 4ms/step - loss: 1.2255 - accuracy: 0.6187 - val_loss: 1.2361 - val_accuracy: 0.6163\n",
            "Epoch 21/75\n",
            "230/230 [==============================] - 1s 4ms/step - loss: 1.2177 - accuracy: 0.6203 - val_loss: 1.2177 - val_accuracy: 0.6215\n",
            "Epoch 22/75\n",
            "230/230 [==============================] - 1s 3ms/step - loss: 1.1940 - accuracy: 0.6285 - val_loss: 1.2087 - val_accuracy: 0.6199\n",
            "Epoch 23/75\n",
            "230/230 [==============================] - 1s 3ms/step - loss: 1.1839 - accuracy: 0.6334 - val_loss: 1.1896 - val_accuracy: 0.6283\n",
            "Epoch 24/75\n",
            "230/230 [==============================] - 1s 3ms/step - loss: 1.1777 - accuracy: 0.6352 - val_loss: 1.1754 - val_accuracy: 0.6326\n",
            "Epoch 25/75\n",
            "230/230 [==============================] - 1s 3ms/step - loss: 1.1627 - accuracy: 0.6384 - val_loss: 1.1680 - val_accuracy: 0.6327\n",
            "Epoch 26/75\n",
            "230/230 [==============================] - 1s 4ms/step - loss: 1.1346 - accuracy: 0.6449 - val_loss: 1.1520 - val_accuracy: 0.6379\n",
            "Epoch 27/75\n",
            "230/230 [==============================] - 1s 3ms/step - loss: 1.1327 - accuracy: 0.6446 - val_loss: 1.1454 - val_accuracy: 0.6407\n",
            "Epoch 28/75\n",
            "230/230 [==============================] - 1s 3ms/step - loss: 1.1221 - accuracy: 0.6486 - val_loss: 1.1356 - val_accuracy: 0.6447\n",
            "Epoch 29/75\n",
            "230/230 [==============================] - 1s 3ms/step - loss: 1.1138 - accuracy: 0.6508 - val_loss: 1.1282 - val_accuracy: 0.6465\n",
            "Epoch 30/75\n",
            "230/230 [==============================] - 1s 3ms/step - loss: 1.1116 - accuracy: 0.6495 - val_loss: 1.1156 - val_accuracy: 0.6473\n",
            "Epoch 31/75\n",
            "230/230 [==============================] - 1s 4ms/step - loss: 1.0955 - accuracy: 0.6556 - val_loss: 1.1054 - val_accuracy: 0.6517\n",
            "Epoch 32/75\n",
            "230/230 [==============================] - 1s 4ms/step - loss: 1.0871 - accuracy: 0.6581 - val_loss: 1.0980 - val_accuracy: 0.6516\n",
            "Epoch 33/75\n",
            "230/230 [==============================] - 1s 4ms/step - loss: 1.0821 - accuracy: 0.6600 - val_loss: 1.0902 - val_accuracy: 0.6533\n",
            "Epoch 34/75\n",
            "230/230 [==============================] - 1s 3ms/step - loss: 1.0612 - accuracy: 0.6647 - val_loss: 1.0912 - val_accuracy: 0.6534\n",
            "Epoch 35/75\n",
            "230/230 [==============================] - 1s 3ms/step - loss: 1.0642 - accuracy: 0.6640 - val_loss: 1.0807 - val_accuracy: 0.6543\n",
            "Epoch 36/75\n",
            "230/230 [==============================] - 1s 3ms/step - loss: 1.0450 - accuracy: 0.6677 - val_loss: 1.0650 - val_accuracy: 0.6556\n",
            "Epoch 37/75\n",
            "230/230 [==============================] - 1s 3ms/step - loss: 1.0352 - accuracy: 0.6692 - val_loss: 1.0565 - val_accuracy: 0.6616\n",
            "Epoch 38/75\n",
            "230/230 [==============================] - 1s 3ms/step - loss: 1.0257 - accuracy: 0.6735 - val_loss: 1.0483 - val_accuracy: 0.6632\n",
            "Epoch 39/75\n",
            "230/230 [==============================] - 1s 3ms/step - loss: 1.0313 - accuracy: 0.6737 - val_loss: 1.0567 - val_accuracy: 0.6607\n",
            "Epoch 40/75\n",
            "230/230 [==============================] - 1s 3ms/step - loss: 1.0039 - accuracy: 0.6786 - val_loss: 1.0370 - val_accuracy: 0.6651\n",
            "Epoch 41/75\n",
            "230/230 [==============================] - 1s 3ms/step - loss: 1.0141 - accuracy: 0.6762 - val_loss: 1.0466 - val_accuracy: 0.6574\n",
            "Epoch 42/75\n",
            "230/230 [==============================] - 1s 3ms/step - loss: 1.0075 - accuracy: 0.6757 - val_loss: 1.0104 - val_accuracy: 0.6730\n",
            "Epoch 43/75\n",
            "230/230 [==============================] - 1s 3ms/step - loss: 0.9794 - accuracy: 0.6834 - val_loss: 1.0033 - val_accuracy: 0.6740\n",
            "Epoch 44/75\n",
            "230/230 [==============================] - 1s 3ms/step - loss: 0.9707 - accuracy: 0.6865 - val_loss: 1.0038 - val_accuracy: 0.6711\n",
            "Epoch 45/75\n",
            "230/230 [==============================] - 1s 4ms/step - loss: 0.9707 - accuracy: 0.6866 - val_loss: 0.9881 - val_accuracy: 0.6775\n",
            "Epoch 46/75\n",
            "230/230 [==============================] - 1s 4ms/step - loss: 0.9585 - accuracy: 0.6891 - val_loss: 0.9820 - val_accuracy: 0.6786\n",
            "Epoch 47/75\n",
            "230/230 [==============================] - 1s 4ms/step - loss: 0.9530 - accuracy: 0.6926 - val_loss: 0.9971 - val_accuracy: 0.6774\n",
            "Epoch 48/75\n",
            "230/230 [==============================] - 1s 4ms/step - loss: 0.9513 - accuracy: 0.6907 - val_loss: 0.9697 - val_accuracy: 0.6827\n",
            "Epoch 49/75\n",
            "230/230 [==============================] - 1s 4ms/step - loss: 0.9304 - accuracy: 0.6995 - val_loss: 0.9895 - val_accuracy: 0.6740\n",
            "Epoch 50/75\n",
            "230/230 [==============================] - 1s 4ms/step - loss: 0.9319 - accuracy: 0.6960 - val_loss: 0.9609 - val_accuracy: 0.6867\n",
            "Epoch 51/75\n",
            "230/230 [==============================] - 1s 3ms/step - loss: 0.9340 - accuracy: 0.6943 - val_loss: 0.9565 - val_accuracy: 0.6849\n",
            "Epoch 52/75\n",
            "230/230 [==============================] - 1s 4ms/step - loss: 0.9139 - accuracy: 0.7003 - val_loss: 0.9337 - val_accuracy: 0.6953\n",
            "Epoch 53/75\n",
            "230/230 [==============================] - 1s 4ms/step - loss: 0.9109 - accuracy: 0.6996 - val_loss: 0.9846 - val_accuracy: 0.6812\n",
            "Epoch 54/75\n",
            "230/230 [==============================] - 1s 4ms/step - loss: 0.9229 - accuracy: 0.6976 - val_loss: 0.9690 - val_accuracy: 0.6803\n",
            "Epoch 55/75\n",
            "230/230 [==============================] - 1s 4ms/step - loss: 0.9046 - accuracy: 0.7020 - val_loss: 0.9319 - val_accuracy: 0.6955\n",
            "Epoch 56/75\n",
            "230/230 [==============================] - 1s 4ms/step - loss: 0.9076 - accuracy: 0.7005 - val_loss: 0.9422 - val_accuracy: 0.6856\n",
            "Epoch 57/75\n",
            "230/230 [==============================] - 1s 3ms/step - loss: 0.8884 - accuracy: 0.7068 - val_loss: 0.9286 - val_accuracy: 0.6877\n",
            "Epoch 58/75\n",
            "230/230 [==============================] - 1s 4ms/step - loss: 0.8768 - accuracy: 0.7093 - val_loss: 0.9038 - val_accuracy: 0.7008\n",
            "Epoch 59/75\n",
            "230/230 [==============================] - 1s 3ms/step - loss: 0.8712 - accuracy: 0.7119 - val_loss: 0.8922 - val_accuracy: 0.7053\n",
            "Epoch 60/75\n",
            "230/230 [==============================] - 1s 4ms/step - loss: 0.8805 - accuracy: 0.7070 - val_loss: 0.8959 - val_accuracy: 0.6992\n",
            "Epoch 61/75\n",
            "230/230 [==============================] - 1s 4ms/step - loss: 0.8715 - accuracy: 0.7112 - val_loss: 0.8946 - val_accuracy: 0.7024\n",
            "Epoch 62/75\n",
            "230/230 [==============================] - 1s 3ms/step - loss: 0.8611 - accuracy: 0.7126 - val_loss: 0.9406 - val_accuracy: 0.6960\n",
            "Epoch 63/75\n",
            "230/230 [==============================] - 1s 4ms/step - loss: 0.8576 - accuracy: 0.7114 - val_loss: 0.8729 - val_accuracy: 0.7072\n",
            "Epoch 64/75\n",
            "230/230 [==============================] - 1s 4ms/step - loss: 0.8510 - accuracy: 0.7178 - val_loss: 0.8808 - val_accuracy: 0.7075\n",
            "Epoch 65/75\n",
            "230/230 [==============================] - 1s 4ms/step - loss: 0.8467 - accuracy: 0.7175 - val_loss: 0.9706 - val_accuracy: 0.6881\n",
            "Epoch 66/75\n",
            "230/230 [==============================] - 1s 4ms/step - loss: 0.8562 - accuracy: 0.7132 - val_loss: 0.8694 - val_accuracy: 0.7105\n",
            "Epoch 67/75\n",
            "230/230 [==============================] - 1s 3ms/step - loss: 0.8348 - accuracy: 0.7207 - val_loss: 0.8681 - val_accuracy: 0.7095\n",
            "Epoch 68/75\n",
            "230/230 [==============================] - 1s 4ms/step - loss: 0.8373 - accuracy: 0.7216 - val_loss: 0.8691 - val_accuracy: 0.7074\n",
            "Epoch 69/75\n",
            "230/230 [==============================] - 1s 4ms/step - loss: 0.8342 - accuracy: 0.7184 - val_loss: 0.8592 - val_accuracy: 0.7114\n",
            "Epoch 70/75\n",
            "230/230 [==============================] - 1s 4ms/step - loss: 0.8243 - accuracy: 0.7205 - val_loss: 0.8485 - val_accuracy: 0.7129\n",
            "Epoch 71/75\n",
            "230/230 [==============================] - 1s 4ms/step - loss: 0.8224 - accuracy: 0.7247 - val_loss: 0.8426 - val_accuracy: 0.7188\n",
            "Epoch 72/75\n",
            "230/230 [==============================] - 1s 3ms/step - loss: 0.8121 - accuracy: 0.7240 - val_loss: 0.9282 - val_accuracy: 0.7000\n",
            "Epoch 73/75\n",
            "230/230 [==============================] - 1s 3ms/step - loss: 0.8312 - accuracy: 0.7217 - val_loss: 0.8800 - val_accuracy: 0.7036\n",
            "Epoch 74/75\n",
            "230/230 [==============================] - 1s 3ms/step - loss: 0.8163 - accuracy: 0.7253 - val_loss: 0.9162 - val_accuracy: 0.6912\n",
            "Epoch 75/75\n",
            "230/230 [==============================] - 1s 3ms/step - loss: 0.8213 - accuracy: 0.7235 - val_loss: 0.8564 - val_accuracy: 0.7129\n"
          ],
          "name": "stdout"
        },
        {
          "output_type": "execute_result",
          "data": {
            "text/plain": [
              "<tensorflow.python.keras.callbacks.History at 0x7fcba9c6fb50>"
            ]
          },
          "metadata": {
            "tags": []
          },
          "execution_count": 16
        }
      ]
    },
    {
      "cell_type": "code",
      "metadata": {
        "colab": {
          "base_uri": "https://localhost:8080/"
        },
        "id": "5RdmN8mK2UvQ",
        "outputId": "4c1b1a96-189a-4311-d2ac-c577f06d4928"
      },
      "source": [
        "#@title Resumen métricas arquitectura\r\n",
        "\r\n",
        "import tensorflow as tf\r\n",
        "from tensorflow import keras\r\n",
        "\r\n",
        "# realizamos predicciones\r\n",
        "y_pred_dnn = model.predict(X_test_best)\r\n",
        "\r\n",
        "TP = tf.keras.metrics.TruePositives()\r\n",
        "TN = tf.keras.metrics.TrueNegatives()\r\n",
        "FP = tf.keras.metrics.FalsePositives()\r\n",
        "FN = tf.keras.metrics.FalseNegatives()\r\n",
        "recall = tf.keras.metrics.Recall()\r\n",
        "\r\n",
        "cat_acc = tf.keras.metrics.CategoricalAccuracy()\r\n",
        "\r\n",
        "TP.update_state(y_test_ohe, y_pred_dnn)\r\n",
        "TN.update_state(y_test_ohe, y_pred_dnn)\r\n",
        "FP.update_state(y_test_ohe, y_pred_dnn)\r\n",
        "FN.update_state(y_test_ohe, y_pred_dnn)\r\n",
        "cat_acc.update_state(y_test_ohe, y_pred_dnn)\r\n",
        "recall.update_state(y_test_ohe, y_pred_dnn)\r\n",
        "\r\n",
        "Total_pred = TP.result().numpy() + TN.result().numpy() + FP.result().numpy() + FN.result().numpy()\r\n",
        "\r\n",
        "print('Predicciones totales:',Total_pred)\r\n",
        "print('TP:',TP.result().numpy())\r\n",
        "print('TN:',TN.result().numpy())\r\n",
        "print('FP:',FP.result().numpy())\r\n",
        "print('FN:',FN.result().numpy())\r\n",
        "print('TPR:',TP.result().numpy()/(TP.result().numpy() + FN.result().numpy()))\r\n",
        "print('TNR:',TN.result().numpy()/(TN.result().numpy() + FP.result().numpy()))\r\n",
        "\r\n",
        "print('Categorical accuracy:',cat_acc.result().numpy())\r\n",
        "print('Recall:',recall.result().numpy())\r\n"
      ],
      "execution_count": 18,
      "outputs": [
        {
          "output_type": "stream",
          "text": [
            "Predicciones totales: 516768.0\n",
            "TP: 15899.0\n",
            "TN: 491379.0\n",
            "FP: 781.0\n",
            "FN: 8709.0\n",
            "TPR: 0.6460907\n",
            "TNR: 0.99841315\n",
            "Categorical accuracy: 0.71289825\n",
            "Recall: 0.6460907\n"
          ],
          "name": "stdout"
        }
      ]
    },
    {
      "cell_type": "code",
      "metadata": {
        "colab": {
          "base_uri": "https://localhost:8080/"
        },
        "id": "mdZAufkv_D5A",
        "cellView": "form",
        "outputId": "7b812468-27de-4156-e809-c70680e53463"
      },
      "source": [
        "#@title Summary\r\n",
        "model.summary()\r\n",
        "\r\n",
        "test_loss, test_acc = model.evaluate(X_test_best, y_test_ohe)\r\n",
        "print('Test accuracy:', test_acc)\r\n"
      ],
      "execution_count": null,
      "outputs": [
        {
          "output_type": "stream",
          "text": [
            "Model: \"sequential\"\n",
            "_________________________________________________________________\n",
            "Layer (type)                 Output Shape              Param #   \n",
            "=================================================================\n",
            "flatten (Flatten)            (None, 20)                0         \n",
            "_________________________________________________________________\n",
            "dense (Dense)                (None, 256)               5376      \n",
            "_________________________________________________________________\n",
            "dense_1 (Dense)              (None, 128)               32896     \n",
            "_________________________________________________________________\n",
            "dense_2 (Dense)              (None, 64)                8256      \n",
            "_________________________________________________________________\n",
            "dense_3 (Dense)              (None, 32)                2080      \n",
            "_________________________________________________________________\n",
            "dense_4 (Dense)              (None, 16)                528       \n",
            "_________________________________________________________________\n",
            "dense_5 (Dense)              (None, 21)                357       \n",
            "=================================================================\n",
            "Total params: 49,493\n",
            "Trainable params: 49,493\n",
            "Non-trainable params: 0\n",
            "_________________________________________________________________\n",
            "769/769 [==============================] - 1s 2ms/step - loss: 0.8044 - accuracy: 0.7255\n",
            "Test accuracy: 0.7254957556724548\n"
          ],
          "name": "stdout"
        }
      ]
    },
    {
      "cell_type": "markdown",
      "metadata": {
        "id": "7rybuhjz8Viw"
      },
      "source": [
        "# Visualización con entrenamiento no supervisado"
      ]
    },
    {
      "cell_type": "code",
      "metadata": {
        "colab": {
          "base_uri": "https://localhost:8080/"
        },
        "id": "Iz1aezQJ8a52",
        "outputId": "4fde2dfa-d4c0-4900-8a0a-dd80cd7afb06"
      },
      "source": [
        "#@title Datasets\r\n",
        "from sklearn.decomposition import PCA\r\n",
        "print('Antes de PCA',X.shape)\r\n",
        "pca = PCA(n_components=2)\r\n",
        "pca.fit(X)\r\n",
        "X_pca = pca.transform(X)\r\n",
        "print('Despues de PCA',X_pca.shape)"
      ],
      "execution_count": null,
      "outputs": [
        {
          "output_type": "stream",
          "text": [
            "Antes de PCA (82026, 52)\n",
            "Despues de PCA (82026, 2)\n"
          ],
          "name": "stdout"
        }
      ]
    },
    {
      "cell_type": "code",
      "metadata": {
        "colab": {
          "base_uri": "https://localhost:8080/"
        },
        "cellView": "form",
        "id": "Eg5p3ayf9yYF",
        "outputId": "29184fd3-4fd0-4d82-c181-744fa300c8d8"
      },
      "source": [
        "#@title Definición de los modelos\r\n",
        "\r\n",
        "from sklearn.cluster import KMeans \r\n",
        "from sklearn.cluster import DBSCAN\r\n",
        "t = time.time()\r\n",
        "\r\n",
        "kmeans = KMeans(n_clusters=21) \r\n",
        "kmeans.fit(X_pca)\r\n",
        "\r\n",
        "epsilon = 0.2\r\n",
        "min_points = 500\r\n",
        "DBS = DBSCAN(eps=epsilon)\r\n",
        "DBS.fit(X_pca)\r\n",
        "\r\n",
        "elapsed = time.time() - t\r\n",
        "print('Time: ',elapsed)\r\n"
      ],
      "execution_count": null,
      "outputs": [
        {
          "output_type": "stream",
          "text": [
            "Time:  10.30099606513977\n"
          ],
          "name": "stdout"
        }
      ]
    },
    {
      "cell_type": "code",
      "metadata": {
        "colab": {
          "base_uri": "https://localhost:8080/",
          "height": 299
        },
        "id": "NvKfPKo8_AyD",
        "cellView": "form",
        "outputId": "067cf747-0d01-4997-bc52-6bb8e18bbbcc"
      },
      "source": [
        "#@title Graficamos resultados\r\n",
        "\r\n",
        "kmeans_labels = kmeans.labels_\r\n",
        "DBS_labels = DBS.labels_\r\n",
        "plt.figure(figsize=(15,4))\r\n",
        "plt.subplot(131);\r\n",
        "plt.scatter(X_pca[:,0],X_pca[:,1], c=y, cmap='rainbow') \r\n",
        "plt.title('Original data')\r\n",
        "plt.subplot(132);\r\n",
        "plt.scatter(X_pca[:,0],X_pca[:,1], c=kmeans_labels, cmap='rainbow') \r\n",
        "plt.title('Kmeans')\r\n",
        "plt.subplot(133);\r\n",
        "plt.scatter(X_pca[:,0],X_pca[:,1], c=DBS_labels, cmap='rainbow') \r\n",
        "plt.title('DBSCAN')"
      ],
      "execution_count": null,
      "outputs": [
        {
          "output_type": "execute_result",
          "data": {
            "text/plain": [
              "Text(0.5, 1.0, 'DBSCAN')"
            ]
          },
          "metadata": {
            "tags": []
          },
          "execution_count": 88
        },
        {
          "output_type": "display_data",
          "data": {
            "image/png": "[encoded data removed]",
            "text/plain": [
              "<Figure size 1080x288 with 3 Axes>"
            ]
          },
          "metadata": {
            "tags": [],
            "needs_background": "light"
          }
        }
      ]
    },
    {
      "cell_type": "markdown",
      "metadata": {
        "id": "uBWhxqNSBVmR"
      },
      "source": [
        "# PRUEBAS/TESTEOS PRELIMINARES"
      ]
    },
    {
      "cell_type": "markdown",
      "metadata": {
        "id": "NEVkm6EtYhvX"
      },
      "source": [
        "## Random Forest"
      ]
    },
    {
      "cell_type": "code",
      "metadata": {
        "colab": {
          "base_uri": "https://localhost:8080/"
        },
        "id": "BxmmwkGOYio0",
        "outputId": "19b305b2-bc4f-4ad1-a1fa-6ddbb4c0ca96"
      },
      "source": [
        "from sklearn.ensemble import RandomForestClassifier\r\n",
        "\r\n",
        "t = time.time()\r\n",
        "\r\n",
        "RF = RandomForestClassifier(n_estimators=50, criterion='gini', max_depth=5)\r\n",
        "RF.fit(X_train, y_train)\r\n",
        "y_pred_RF = RF.predict(X_test)\r\n",
        "cm = confusion_matrix(y_test, y_pred_GNB)\r\n",
        "# print(cm)\r\n",
        "# sn.heatmap(cm)\r\n",
        "print(accuracy_score(y_test, y_pred_RF))\r\n",
        "\r\n",
        "elapsed = time.time() - t\r\n",
        "print('Time: ',elapsed)"
      ],
      "execution_count": null,
      "outputs": [
        {
          "output_type": "stream",
          "text": [
            "0.45630032365615647\n",
            "Time:  20.293904066085815\n"
          ],
          "name": "stdout"
        }
      ]
    },
    {
      "cell_type": "markdown",
      "metadata": {
        "id": "2H4VaTV5acCN"
      },
      "source": [
        "## KNN"
      ]
    },
    {
      "cell_type": "code",
      "metadata": {
        "colab": {
          "base_uri": "https://localhost:8080/"
        },
        "id": "w8QmCdCxajmA",
        "outputId": "80bd22ff-e8fe-4b12-fe36-f4729323b13a"
      },
      "source": [
        "from sklearn.neighbors import KNeighborsClassifier\r\n",
        "\r\n",
        "t = time.time()\r\n",
        "\r\n",
        "KNN = KNeighborsClassifier(n_neighbors=10, weights='uniform', algorithm='auto')\r\n",
        "KNN.fit(X_train, y_train)\r\n",
        "y_pred_KNN = KNN.predict(X_test)\r\n",
        "cm = confusion_matrix(y_test, y_pred_KNN)\r\n",
        "# print(cm)\r\n",
        "# sn.heatmap(cm)\r\n",
        "print(accuracy_score(y_test, y_pred_KNN))\r\n",
        "\r\n",
        "elapsed = time.time() - t\r\n",
        "print('Time: ',elapsed)"
      ],
      "execution_count": null,
      "outputs": [
        {
          "output_type": "stream",
          "text": [
            "0.36456117467070576\n",
            "Time:  74.10815215110779\n"
          ],
          "name": "stdout"
        }
      ]
    },
    {
      "cell_type": "markdown",
      "metadata": {
        "id": "CGiCvUF7bauq"
      },
      "source": [
        "## SVM"
      ]
    },
    {
      "cell_type": "code",
      "metadata": {
        "id": "wWgjbMBObdZz"
      },
      "source": [
        "from sklearn.svm import SVC\r\n",
        "\r\n",
        "t = time.time()\r\n",
        "\r\n",
        "# kernel{‘linear’, ‘poly’, ‘rbf’, ‘sigmoid’, ‘precomputed’}, default=’rbf’\r\n",
        "SVMC = SVC(C=1.0, kernel='linear', degree=3, gamma='scale')\r\n",
        "SVMC.fit(X_train, y_train)\r\n",
        "y_pred_SVMC = SVMC.predict(X_test)\r\n",
        "cm = confusion_matrix(y_test, y_pred_GNB)\r\n",
        "# print(cm)\r\n",
        "# sn.heatmap(cm)\r\n",
        "print(accuracy_score(y_test, y_pred_SVMC))\r\n",
        "\r\n",
        "elapsed = time.time() - t\r\n",
        "print('Time: ',elapsed)"
      ],
      "execution_count": null,
      "outputs": []
    },
    {
      "cell_type": "markdown",
      "metadata": {
        "id": "wAGOJMPBopkf"
      },
      "source": [
        "## PCA DATA"
      ]
    },
    {
      "cell_type": "code",
      "metadata": {
        "colab": {
          "base_uri": "https://localhost:8080/"
        },
        "id": "FHIryyMfwSte",
        "outputId": "e96e021c-c313-4ae7-e139-efe2cc0e2114"
      },
      "source": [
        "from sklearn.decomposition import PCA\r\n",
        "from sklearn.model_selection import cross_val_score, KFold\r\n",
        "\r\n",
        "print('Dimensiones originales de X:', X.shape)\r\n",
        "\r\n",
        "X_pca = PCA(n_components=49).fit_transform(X)\r\n",
        "print('Dimensiones de X despues de PCA:', X_pca.shape)"
      ],
      "execution_count": null,
      "outputs": [
        {
          "output_type": "stream",
          "text": [
            "Dimensiones originales de X: (82026, 53)\n",
            "Dimensiones de X despues de PCA: (82026, 49)\n"
          ],
          "name": "stdout"
        }
      ]
    },
    {
      "cell_type": "markdown",
      "metadata": {
        "id": "pg-yqY4UwJMT"
      },
      "source": [
        "## Gaussian Naive"
      ]
    },
    {
      "cell_type": "code",
      "metadata": {
        "colab": {
          "base_uri": "https://localhost:8080/"
        },
        "id": "IsPPjGyNownS",
        "outputId": "fe4e1ebe-8a61-4c3c-cc18-966e5ee363be"
      },
      "source": [
        "from sklearn.naive_bayes import GaussianNB\r\n",
        "\r\n",
        "# s = cross_val_score(GaussianNB(), X_pca, y, cv=KFold(3, shuffle=True), scoring=make_scorer(accuracy_score))\r\n",
        "s = cross_val_score(GaussianNB(), X_pca, y, cv=KFold(10, shuffle=True), scoring=\"accuracy\")\r\n",
        "print (\"accuracy %.3f (+/- %.5f)\"%(np.mean(s), np.std(s)))"
      ],
      "execution_count": null,
      "outputs": [
        {
          "output_type": "stream",
          "text": [
            "accuracy 0.589 (+/- 0.00444)\n"
          ],
          "name": "stdout"
        }
      ]
    },
    {
      "cell_type": "markdown",
      "metadata": {
        "id": "GPO99ryOwFNU"
      },
      "source": [
        "## Random Forest"
      ]
    },
    {
      "cell_type": "code",
      "metadata": {
        "colab": {
          "base_uri": "https://localhost:8080/"
        },
        "id": "IjhPlXkNumWd",
        "outputId": "6c6f3fe6-28d8-4e4a-ff4b-f7c156a73514"
      },
      "source": [
        "from sklearn.ensemble import RandomForestClassifier\r\n",
        "\r\n",
        "RF = RandomForestClassifier(n_estimators=50, criterion='gini', max_depth=5)\r\n",
        "s = cross_val_score(RF, X_pca, y, cv=KFold(5, shuffle=True), scoring=\"accuracy\")\r\n",
        "print (\"accuracy %.3f (+/- %.5f)\"%(np.mean(s), np.std(s)))"
      ],
      "execution_count": null,
      "outputs": [
        {
          "output_type": "stream",
          "text": [
            "accuracy 0.487 (+/- 0.01294)\n"
          ],
          "name": "stdout"
        }
      ]
    }
  ]
}